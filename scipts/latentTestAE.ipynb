{
 "cells": [
  {
   "cell_type": "code",
   "execution_count": 1,
   "metadata": {
    "id": "_rLtjGmseLp8"
   },
   "outputs": [],
   "source": [
    "#Script for training AE at different latent dimension\n",
    "#FHN Model\n",
    "#Asif Hamid Bhat # 10-10-2022"
   ]
  },
  {
   "cell_type": "code",
   "execution_count": 1,
   "metadata": {},
   "outputs": [],
   "source": [
    "### clear ram\n",
    "# import torch\n",
    "# with torch.no_grad():\n",
    "#     torch.cuda.empty_cache()\n",
    "# %reset"
   ]
  },
  {
   "cell_type": "code",
   "execution_count": 1,
   "metadata": {
    "colab": {
     "base_uri": "https://localhost:8080/"
    },
    "id": "fvsZPkCdejlI",
    "outputId": "7ffeac79-e0e1-4b31-a83d-9511f09d12bd",
    "tags": []
   },
   "outputs": [
    {
     "name": "stdout",
     "output_type": "stream",
     "text": [
      "True\n"
     ]
    }
   ],
   "source": [
    "# imports\n",
    "import os\n",
    "import time\n",
    "import sys\n",
    "import numpy as np\n",
    "import scipy as sp\n",
    "from scipy import integrate, interpolate\n",
    "from tqdm.notebook import tqdm\n",
    "import matplotlib.pyplot as plt\n",
    "import matplotlib.gridspec as gridspec\n",
    "from mpl_toolkits.mplot3d import Axes3D\n",
    "from os.path import dirname, join as pjoin\n",
    "from numpy.linalg import norm\n",
    "from sklearn.metrics import mean_squared_error\n",
    "from scipy.io import savemat, loadmat\n",
    "\n",
    "import warnings\n",
    "warnings.filterwarnings('ignore')\n",
    "import torch\n",
    "import os\n",
    "import torch.nn as nn\n",
    "import torch.optim as optim\n",
    "criterion = torch.nn.MSELoss(reduction='none')\n",
    "import matplotlib.pyplot as plt\n",
    "\n",
    "\n",
    "# system='FHN'\n",
    "# data_dir = os.path.join('../data/', system)\n",
    "# model_dir = os.path.join('../models/', system)\n",
    "# # module_path = os.path.abspath(os.path.join('/content/drive/My Drive/ColabNotebooks/modelsFHN/AEhitsFHNmodels'))\n",
    "# from scipy.io import loadmat # import mat73 for v7.3 mat files\n",
    "# matlabfilepath = pjoin(data_dir, 'FHN.mat')\n",
    "# data = loadmat(matlabfilepath)\n",
    "# paths\n",
    "noise = 0.0 \n",
    "system = 'KS' #### FHN,KS,RD  \n",
    "data_dir = os.path.join('../data/', system)\n",
    "model_dir = os.path.join('../models/', system)\n",
    "path=os.path.join('../results/KS/data')\n",
    "device = torch.device(\"cuda\" if torch.cuda.is_available() else \"cpu\")\n",
    "module_path= os.path.abspath(os.path.join('../src/'))\n",
    "if module_path not in sys.path:\n",
    "    sys.path.append(module_path)\n",
    "from AERD import *\n",
    "print(torch.cuda.is_available())"
   ]
  },
  {
   "cell_type": "code",
   "execution_count": 2,
   "metadata": {},
   "outputs": [
    {
     "data": {
      "text/plain": [
       "'../models/KS'"
      ]
     },
     "execution_count": 2,
     "metadata": {},
     "output_type": "execute_result"
    }
   ],
   "source": [
    "model_dir"
   ]
  },
  {
   "cell_type": "code",
   "execution_count": 19,
   "metadata": {
    "tags": []
   },
   "outputs": [],
   "source": [
    "# load data\n",
    "# snapshots_train = np.load(os.path.join(data_dir, 'train_noise{}.npy'.format(noise)))\n",
    "# snapshots_valid = np.load(os.path.join(data_dir, 'val_noise{}.npy'.format(noise)))\n",
    "# snapshots_test = np.load(os.path.join(data_dir, 'test_noise{}.npy'.format(noise)))"
   ]
  },
  {
   "cell_type": "markdown",
   "metadata": {},
   "source": [
    "#### LOAD DATA"
   ]
  },
  {
   "cell_type": "code",
   "execution_count": 7,
   "metadata": {},
   "outputs": [],
   "source": [
    "train_data = torch.load(data_dir + \"/train_data.pt\")\n",
    "train_data=train_data[:10,:,:]\n",
    "# train_data=train_data.transpose(1, 2)\n",
    "# val_data = torch.load(data_dir + \"/val_data.pt\")\n",
    "test_data = torch.load(data_dir + \"/test_data.pt\")\n",
    "test_data=test_data[:,:5121,:]"
   ]
  },
  {
   "cell_type": "code",
   "execution_count": 8,
   "metadata": {},
   "outputs": [
    {
     "data": {
      "text/plain": [
       "torch.Size([10, 5121, 120])"
      ]
     },
     "execution_count": 8,
     "metadata": {},
     "output_type": "execute_result"
    }
   ],
   "source": [
    "train_data.shape"
   ]
  },
  {
   "cell_type": "code",
   "execution_count": 9,
   "metadata": {
    "colab": {
     "base_uri": "https://localhost:8080/"
    },
    "id": "tzDEewNcelpe",
    "outputId": "e9103af6-6134-4fa2-8b1f-a888302eca53",
    "tags": []
   },
   "outputs": [
    {
     "data": {
      "text/plain": [
       "(torch.Size([10, 5121, 120]), torch.Size([5, 5121, 120]))"
      ]
     },
     "execution_count": 9,
     "metadata": {},
     "output_type": "execute_result"
    }
   ],
   "source": [
    "# snapshots_train=data['train_data']\n",
    "# #val= sio.loadmat('rho_val500.mat')   # load the desired model\n",
    "# snapshots_valid=data['val_data']\n",
    "# #test= sio.loadmat('rho_test500.mat')   # load the desired model\n",
    "# snapshots_test=data['test_data']\n",
    "train_data=torch.tensor(train_data).to(torch.float32).to(device)\n",
    "test_data=torch.tensor(test_data).to(torch.float32).to(device)\n",
    "tspan=train_data.shape[1]\n",
    "train_data.shape,test_data.shape#,val_data.shape,test_data.shape"
   ]
  },
  {
   "cell_type": "code",
   "execution_count": 10,
   "metadata": {
    "id": "oSOTM3ecewWo",
    "tags": []
   },
   "outputs": [],
   "source": [
    "# loop for different latent dimension\n",
    "loop= np.arange(1,11,1)\n",
    "mse_latentAE=torch.zeros(1,loop.shape[0])\n",
    "# mse_PCA=torch.zeros(1,loop.shape[0])"
   ]
  },
  {
   "cell_type": "code",
   "execution_count": 11,
   "metadata": {},
   "outputs": [
    {
     "data": {
      "text/plain": [
       "array([ 1,  2,  3,  4,  5,  6,  7,  8,  9, 10])"
      ]
     },
     "execution_count": 11,
     "metadata": {},
     "output_type": "execute_result"
    }
   ],
   "source": [
    "loop"
   ]
  },
  {
   "cell_type": "code",
   "execution_count": 25,
   "metadata": {},
   "outputs": [],
   "source": [
    "# ### Define AE for FHN model\n",
    "# input_size=train_data.shape[2]\n",
    "# hidden_size=loop\n",
    "# class AE(nn.Module):\n",
    "#     def __init__(self,i):\n",
    "#         super().__init__()\n",
    "#         self.encoder = torch.nn.Sequential(\n",
    "#             torch.nn.Linear(202, 100),\n",
    "#             torch.nn.ReLU(),\n",
    "#             torch.nn.Linear(100, 100),\n",
    "#             torch.nn.ReLU(),\n",
    "#             torch.nn.Linear(100, 100),\n",
    "#             torch.nn.ReLU(),\n",
    "#             torch.nn.Linear(100, 100),\n",
    "#             torch.nn.ReLU(),\n",
    "#             torch.nn.Linear(100, hidden_size[i])\n",
    "#         )\n",
    "\n",
    "#         self.decoder = torch.nn.Sequential(\n",
    "#             torch.nn.Linear(hidden_size[i], 100),\n",
    "#             torch.nn.ReLU(),\n",
    "#             torch.nn.Linear(100, 100),\n",
    "#             torch.nn.ReLU(),\n",
    "#             torch.nn.Linear(100, 100),\n",
    "#             torch.nn.ReLU(),\n",
    "#             torch.nn.Linear(100, 100),\n",
    "#             torch.nn.ReLU(),\n",
    "#             torch.nn.Linear(100, 202),\n",
    "#             torch.nn.Sigmoid()\n",
    "#         )\n",
    "\n",
    "#     def forward(self, x):\n",
    "#         encoded = self.encoder(x)\n",
    "#         decoded = self.decoder(encoded)\n",
    "#         return decoded\n",
    "\n",
    "# # Define the training function\n",
    "# def train(model, dataloader, num_epochs, learning_rate):\n",
    "#     criterion = nn.MSELoss()\n",
    "#     optimizer = optim.Adam(model.parameters(), lr=learning_rate) \n",
    "\n",
    "#     for epoch in range(num_epochs):\n",
    "#         for data in dataloader:\n",
    "#             recon = model(data)\n",
    "#             loss = criterion(recon, data)\n",
    "#             optimizer.zero_grad()\n",
    "#             loss.backward()\n",
    "#             optimizer.step()\n",
    "\n",
    "#         print('Epoch [{}/{}], Loss: {:.4f}'.format(epoch+1, num_epochs, loss.item()))\n",
    "# from sklearn.preprocessing import MinMaxScaler\n",
    "# scaler = MinMaxScaler()\n",
    "# scaler.fit(train_data.reshape(train_data.shape[0]*train_data.shape[1],train_data.shape[2]).cpu().detach().numpy())\n",
    "# train_data = scaler.transform(train_data.reshape(train_data.shape[0]*train_data.shape[1],train_data.shape[2]).cpu().detach().numpy())"
   ]
  },
  {
   "cell_type": "code",
   "execution_count": 12,
   "metadata": {
    "id": "aDR6rakvetJc",
    "tags": []
   },
   "outputs": [],
   "source": [
    "# # Define the autoencoder class FOR KS,FHN\n",
    "input_size=train_data.shape[2]\n",
    "hidden_size=loop\n",
    "L1=120\n",
    "L2=120\n",
    "L3=100\n",
    "# Creating a PyTorch class\n",
    "# 28*28 ==> 9 ==> 28*28\n",
    "class AE(torch.nn.Module):\n",
    "    def __init__(self,i):\n",
    "        super().__init__()\n",
    "         \n",
    "        # Building an linear encoder with Linear\n",
    "        # layer followed by Relu activation function\n",
    "        # 784 ==> 9\n",
    "        self.encoder = torch.nn.Sequential(\n",
    "            torch.nn.Linear(input_size, L1),\n",
    "            torch.nn.ReLU(),\n",
    "            torch.nn.Linear(L1, L2),\n",
    "            torch.nn.ReLU(),\n",
    "            torch.nn.Linear(L2, L3),\n",
    "            torch.nn.ReLU(),\n",
    "            torch.nn.Linear(L3, hidden_size[i])\n",
    "        )\n",
    "         \n",
    "        # Building an linear decoder with Linear\n",
    "        # layer followed by Relu activation function\n",
    "        # The Sigmoid activation function\n",
    "        # outputs the value between 0 and 1\n",
    "        # 9 ==> 784\n",
    "        self.decoder = torch.nn.Sequential(\n",
    "            torch.nn.Linear(hidden_size[i], L3),\n",
    "            torch.nn.ReLU(),\n",
    "            torch.nn.Linear(L3, L2),\n",
    "            torch.nn.ReLU(),\n",
    "            torch.nn.Linear(L2, L1),\n",
    "            torch.nn.ReLU(),\n",
    "            torch.nn.Linear(L1,input_size)\n",
    "        )\n",
    " \n",
    "    def forward(self, x):\n",
    "        encoded = self.encoder(x)\n",
    "        decoded = self.decoder(encoded)\n",
    "        return decoded\n",
    "\n",
    "# Define the training function\n",
    "def train(model, dataloader, num_epochs, learning_rate,model_path=None):\n",
    "    criterion = nn.MSELoss()\n",
    "    print_interval=1000\n",
    "    optimizer = optim.Adam(model.parameters(), lr=learning_rate) \n",
    "    best_loss = 1e+5\n",
    "    for epoch in range(num_epochs):\n",
    "        for data in dataloader:\n",
    "            recon = model(data)\n",
    "            loss = criterion(recon, data)\n",
    "            optimizer.zero_grad()\n",
    "            loss.backward()\n",
    "            optimizer.step()\n",
    "        if (epoch + 1) % print_interval == 0:\n",
    "            print('Epoch [{}/{}], Loss:{:.8e}'.format(epoch+1, num_epochs, loss.item()))\n",
    "            if loss.item() < best_loss:\n",
    "                best_loss = loss.item()\n",
    "                print('(--> new model saved @ epoch {})'.format(epoch+1))\n",
    "                best_model_state = model.state_dict()\n",
    "                torch.save(best_model_state,model_path)\n",
    "        # print('Epoch [{}/{}], Loss: {:.4f}'.format(epoch+1, num_epochs, loss.item()))"
   ]
  },
  {
   "cell_type": "code",
   "execution_count": 13,
   "metadata": {},
   "outputs": [],
   "source": [
    "# train_data=train_data.to(torch.float32).to(device)\n",
    "train_data=torch.tensor(train_data).to(torch.float32).to(device)\n",
    "# val_data=val_data.to(torch.float32).to(device)\n",
    "test_data=test_data.to(torch.float32).to(device)"
   ]
  },
  {
   "cell_type": "code",
   "execution_count": 146,
   "metadata": {
    "id": "XVWhihjTfUXI",
    "tags": []
   },
   "outputs": [],
   "source": [
    "# training data\n",
    "#x=snapshots_train[:,:,:] #.reshape(train_sets*snapshots_train.shape[1],snapshots_train.shape[2])\n",
    "#device = torch.device(\"cuda\" if torch.cuda.is_available() else \"cpu\")\n",
    "#snapshots_train=outliers(snapshots_train,100)\n",
    "# from torch.nn.functional import normalize\n",
    "# from sklearn.preprocessing import MinMaxScaler\n",
    "#snapshots_train=torch.tensor(snapshots_train)#.reshape(st.shape[0]*st.shape[1],st.shape[2])\n",
    "# scaler = MinMaxScaler()\n",
    "# scaler.fit(x)\n",
    "# x = scaler.transform(x)\n",
    "# scaler = MinMaxScaler()\n",
    "# scaler.fit(x)\n",
    "# x=scalar.transform(x)\n",
    "# x=x.reshape(train_sets,snapshots_train.shape[1],snapshots_train.shape[2])\n",
    "#x=torch.tensor(x)\n",
    "# snapshots_train = snapshots_train.to(torch.float32)\n",
    "# snapshots_train=snapshots_train.to(device)\n",
    "# x=scaler.transform(x)\n",
    "\n",
    "\n",
    "#x=normalize(x)\n",
    "\n",
    "#sets=snapshots_train.shape[0]\n",
    "# test_data = torch.tensor(snapshots_test[:,:,:]).to(torch.float32)\n",
    "# test_data=test_data.to(device)"
   ]
  },
  {
   "cell_type": "code",
   "execution_count": 15,
   "metadata": {
    "colab": {
     "base_uri": "https://localhost:8080/"
    },
    "id": "ujsFsMc-fYYd",
    "outputId": "5543feb9-142c-4aa1-9178-a130355becf7",
    "tags": []
   },
   "outputs": [
    {
     "name": "stdout",
     "output_type": "stream",
     "text": [
      "Running testing for i = 1  of  [ 1  2  3  4  5  6  7  8  9 10]\n",
      "Epoch [1000/20000], Loss:3.77734661e-01\n",
      "(--> new model saved @ epoch 1000)\n",
      "Epoch [2000/20000], Loss:3.26246262e-01\n",
      "(--> new model saved @ epoch 2000)\n",
      "Epoch [3000/20000], Loss:2.96038747e-01\n",
      "(--> new model saved @ epoch 3000)\n",
      "Epoch [4000/20000], Loss:2.92519867e-01\n",
      "(--> new model saved @ epoch 4000)\n",
      "Epoch [5000/20000], Loss:2.71964490e-01\n",
      "(--> new model saved @ epoch 5000)\n",
      "Epoch [6000/20000], Loss:2.66044319e-01\n",
      "(--> new model saved @ epoch 6000)\n",
      "Epoch [7000/20000], Loss:2.55233020e-01\n",
      "(--> new model saved @ epoch 7000)\n",
      "Epoch [8000/20000], Loss:2.58094788e-01\n",
      "Epoch [9000/20000], Loss:2.43694767e-01\n",
      "(--> new model saved @ epoch 9000)\n",
      "Epoch [10000/20000], Loss:2.35189810e-01\n",
      "(--> new model saved @ epoch 10000)\n",
      "Epoch [11000/20000], Loss:2.40150392e-01\n",
      "Epoch [12000/20000], Loss:2.31868967e-01\n",
      "(--> new model saved @ epoch 12000)\n",
      "Epoch [13000/20000], Loss:2.28461578e-01\n",
      "(--> new model saved @ epoch 13000)\n",
      "Epoch [14000/20000], Loss:2.25341529e-01\n",
      "(--> new model saved @ epoch 14000)\n",
      "Epoch [15000/20000], Loss:2.20568702e-01\n",
      "(--> new model saved @ epoch 15000)\n",
      "Epoch [16000/20000], Loss:2.21217215e-01\n",
      "Epoch [17000/20000], Loss:2.20636442e-01\n",
      "Epoch [18000/20000], Loss:2.10037351e-01\n",
      "(--> new model saved @ epoch 18000)\n",
      "Epoch [19000/20000], Loss:2.18033955e-01\n",
      "Epoch [20000/20000], Loss:2.05019429e-01\n",
      "(--> new model saved @ epoch 20000)\n",
      "Running testing for i = 2  of  [ 1  2  3  4  5  6  7  8  9 10]\n",
      "Epoch [1000/20000], Loss:1.65525898e-01\n",
      "(--> new model saved @ epoch 1000)\n",
      "Epoch [2000/20000], Loss:1.35317042e-01\n",
      "(--> new model saved @ epoch 2000)\n",
      "Epoch [3000/20000], Loss:1.21721327e-01\n",
      "(--> new model saved @ epoch 3000)\n",
      "Epoch [4000/20000], Loss:1.05452776e-01\n",
      "(--> new model saved @ epoch 4000)\n",
      "Epoch [5000/20000], Loss:9.56142843e-02\n",
      "(--> new model saved @ epoch 5000)\n",
      "Epoch [6000/20000], Loss:9.42907333e-02\n",
      "(--> new model saved @ epoch 6000)\n",
      "Epoch [7000/20000], Loss:8.94793123e-02\n",
      "(--> new model saved @ epoch 7000)\n",
      "Epoch [8000/20000], Loss:8.47254321e-02\n",
      "(--> new model saved @ epoch 8000)\n",
      "Epoch [9000/20000], Loss:8.19353685e-02\n",
      "(--> new model saved @ epoch 9000)\n",
      "Epoch [10000/20000], Loss:7.70075545e-02\n",
      "(--> new model saved @ epoch 10000)\n",
      "Epoch [11000/20000], Loss:7.34791681e-02\n",
      "(--> new model saved @ epoch 11000)\n",
      "Epoch [12000/20000], Loss:7.51770362e-02\n",
      "Epoch [13000/20000], Loss:6.96535408e-02\n",
      "(--> new model saved @ epoch 13000)\n",
      "Epoch [14000/20000], Loss:6.92949370e-02\n",
      "(--> new model saved @ epoch 14000)\n",
      "Epoch [15000/20000], Loss:7.01402202e-02\n",
      "Epoch [16000/20000], Loss:6.49408102e-02\n",
      "(--> new model saved @ epoch 16000)\n",
      "Epoch [17000/20000], Loss:6.24263734e-02\n",
      "(--> new model saved @ epoch 17000)\n",
      "Epoch [18000/20000], Loss:6.12658262e-02\n",
      "(--> new model saved @ epoch 18000)\n",
      "Epoch [19000/20000], Loss:5.94724864e-02\n",
      "(--> new model saved @ epoch 19000)\n",
      "Epoch [20000/20000], Loss:6.23038262e-02\n",
      "Running testing for i = 3  of  [ 1  2  3  4  5  6  7  8  9 10]\n",
      "Epoch [1000/20000], Loss:9.65424851e-02\n",
      "(--> new model saved @ epoch 1000)\n",
      "Epoch [2000/20000], Loss:6.59004003e-02\n",
      "(--> new model saved @ epoch 2000)\n",
      "Epoch [3000/20000], Loss:5.19214496e-02\n",
      "(--> new model saved @ epoch 3000)\n",
      "Epoch [4000/20000], Loss:4.44719270e-02\n",
      "(--> new model saved @ epoch 4000)\n",
      "Epoch [5000/20000], Loss:4.19625640e-02\n",
      "(--> new model saved @ epoch 5000)\n",
      "Epoch [6000/20000], Loss:3.71038206e-02\n",
      "(--> new model saved @ epoch 6000)\n",
      "Epoch [7000/20000], Loss:3.62173431e-02\n",
      "(--> new model saved @ epoch 7000)\n",
      "Epoch [8000/20000], Loss:3.55978794e-02\n",
      "(--> new model saved @ epoch 8000)\n",
      "Epoch [9000/20000], Loss:3.11450101e-02\n",
      "(--> new model saved @ epoch 9000)\n",
      "Epoch [10000/20000], Loss:3.45553793e-02\n",
      "Epoch [11000/20000], Loss:2.83616688e-02\n",
      "(--> new model saved @ epoch 11000)\n",
      "Epoch [12000/20000], Loss:2.67342404e-02\n",
      "(--> new model saved @ epoch 12000)\n",
      "Epoch [13000/20000], Loss:2.67723780e-02\n",
      "Epoch [14000/20000], Loss:2.46788096e-02\n",
      "(--> new model saved @ epoch 14000)\n",
      "Epoch [15000/20000], Loss:2.58555412e-02\n",
      "Epoch [16000/20000], Loss:2.45551821e-02\n",
      "(--> new model saved @ epoch 16000)\n",
      "Epoch [17000/20000], Loss:2.33125966e-02\n",
      "(--> new model saved @ epoch 17000)\n",
      "Epoch [18000/20000], Loss:2.15065908e-02\n",
      "(--> new model saved @ epoch 18000)\n",
      "Epoch [19000/20000], Loss:2.26795822e-02\n",
      "Epoch [20000/20000], Loss:2.00572778e-02\n",
      "(--> new model saved @ epoch 20000)\n",
      "Running testing for i = 4  of  [ 1  2  3  4  5  6  7  8  9 10]\n",
      "Epoch [1000/20000], Loss:3.14005986e-02\n",
      "(--> new model saved @ epoch 1000)\n",
      "Epoch [2000/20000], Loss:2.13195644e-02\n",
      "(--> new model saved @ epoch 2000)\n",
      "Epoch [3000/20000], Loss:1.59027074e-02\n",
      "(--> new model saved @ epoch 3000)\n",
      "Epoch [4000/20000], Loss:1.33070154e-02\n",
      "(--> new model saved @ epoch 4000)\n",
      "Epoch [5000/20000], Loss:1.14509361e-02\n",
      "(--> new model saved @ epoch 5000)\n",
      "Epoch [6000/20000], Loss:1.02017168e-02\n",
      "(--> new model saved @ epoch 6000)\n",
      "Epoch [7000/20000], Loss:9.59498063e-03\n",
      "(--> new model saved @ epoch 7000)\n",
      "Epoch [8000/20000], Loss:1.04783168e-02\n",
      "Epoch [9000/20000], Loss:7.62530696e-03\n",
      "(--> new model saved @ epoch 9000)\n",
      "Epoch [10000/20000], Loss:7.23183481e-03\n",
      "(--> new model saved @ epoch 10000)\n",
      "Epoch [11000/20000], Loss:7.42831267e-03\n",
      "Epoch [12000/20000], Loss:7.63429003e-03\n",
      "Epoch [13000/20000], Loss:7.49809947e-03\n",
      "Epoch [14000/20000], Loss:5.97238448e-03\n",
      "(--> new model saved @ epoch 14000)\n",
      "Epoch [15000/20000], Loss:6.11949200e-03\n",
      "Epoch [16000/20000], Loss:5.32999076e-03\n",
      "(--> new model saved @ epoch 16000)\n",
      "Epoch [17000/20000], Loss:5.49834408e-03\n",
      "Epoch [18000/20000], Loss:5.02337795e-03\n",
      "(--> new model saved @ epoch 18000)\n",
      "Epoch [19000/20000], Loss:6.12788694e-03\n",
      "Epoch [20000/20000], Loss:5.10396343e-03\n",
      "Running testing for i = 5  of  [ 1  2  3  4  5  6  7  8  9 10]\n",
      "Epoch [1000/20000], Loss:1.47021562e-02\n",
      "(--> new model saved @ epoch 1000)\n",
      "Epoch [2000/20000], Loss:7.46913766e-03\n",
      "(--> new model saved @ epoch 2000)\n",
      "Epoch [3000/20000], Loss:6.49852585e-03\n",
      "(--> new model saved @ epoch 3000)\n",
      "Epoch [4000/20000], Loss:6.06103428e-03\n",
      "(--> new model saved @ epoch 4000)\n",
      "Epoch [5000/20000], Loss:3.57440091e-03\n",
      "(--> new model saved @ epoch 5000)\n",
      "Epoch [6000/20000], Loss:3.24288080e-03\n",
      "(--> new model saved @ epoch 6000)\n",
      "Epoch [7000/20000], Loss:3.10510024e-03\n",
      "(--> new model saved @ epoch 7000)\n",
      "Epoch [8000/20000], Loss:2.77246186e-03\n",
      "(--> new model saved @ epoch 8000)\n",
      "Epoch [9000/20000], Loss:2.36369832e-03\n",
      "(--> new model saved @ epoch 9000)\n",
      "Epoch [10000/20000], Loss:3.48758302e-03\n",
      "Epoch [11000/20000], Loss:2.45088665e-03\n",
      "Epoch [12000/20000], Loss:1.90694188e-03\n",
      "(--> new model saved @ epoch 12000)\n",
      "Epoch [13000/20000], Loss:2.57727946e-03\n",
      "Epoch [14000/20000], Loss:1.60248589e-03\n",
      "(--> new model saved @ epoch 14000)\n",
      "Epoch [15000/20000], Loss:1.88170420e-03\n",
      "Epoch [16000/20000], Loss:1.76712067e-03\n",
      "Epoch [17000/20000], Loss:1.98201556e-03\n",
      "Epoch [18000/20000], Loss:1.53622706e-03\n",
      "(--> new model saved @ epoch 18000)\n",
      "Epoch [19000/20000], Loss:2.34983861e-03\n",
      "Epoch [20000/20000], Loss:1.28351373e-03\n",
      "(--> new model saved @ epoch 20000)\n",
      "Running testing for i = 6  of  [ 1  2  3  4  5  6  7  8  9 10]\n",
      "Epoch [1000/20000], Loss:1.32535966e-02\n",
      "(--> new model saved @ epoch 1000)\n",
      "Epoch [2000/20000], Loss:6.62410818e-03\n",
      "(--> new model saved @ epoch 2000)\n",
      "Epoch [3000/20000], Loss:4.26912541e-03\n",
      "(--> new model saved @ epoch 3000)\n",
      "Epoch [4000/20000], Loss:3.18884035e-03\n",
      "(--> new model saved @ epoch 4000)\n",
      "Epoch [5000/20000], Loss:7.02153472e-03\n",
      "Epoch [6000/20000], Loss:2.50796624e-03\n",
      "(--> new model saved @ epoch 6000)\n",
      "Epoch [7000/20000], Loss:2.51680636e-03\n",
      "Epoch [8000/20000], Loss:1.66353071e-03\n",
      "(--> new model saved @ epoch 8000)\n",
      "Epoch [9000/20000], Loss:1.72071659e-03\n",
      "Epoch [10000/20000], Loss:1.82207476e-03\n",
      "Epoch [11000/20000], Loss:2.27484782e-03\n",
      "Epoch [12000/20000], Loss:1.47935213e-03\n",
      "(--> new model saved @ epoch 12000)\n",
      "Epoch [13000/20000], Loss:1.85228733e-03\n",
      "Epoch [14000/20000], Loss:2.23495415e-03\n",
      "Epoch [15000/20000], Loss:1.51656708e-03\n",
      "Epoch [16000/20000], Loss:1.80834520e-03\n",
      "Epoch [17000/20000], Loss:2.07011448e-03\n",
      "Epoch [18000/20000], Loss:1.72858080e-03\n",
      "Epoch [19000/20000], Loss:1.90174801e-03\n",
      "Epoch [20000/20000], Loss:2.63231690e-03\n",
      "Running testing for i = 7  of  [ 1  2  3  4  5  6  7  8  9 10]\n",
      "Epoch [1000/20000], Loss:4.77858540e-03\n",
      "(--> new model saved @ epoch 1000)\n",
      "Epoch [2000/20000], Loss:2.34226766e-03\n",
      "(--> new model saved @ epoch 2000)\n",
      "Epoch [3000/20000], Loss:2.47899815e-03\n",
      "Epoch [4000/20000], Loss:1.27715850e-03\n",
      "(--> new model saved @ epoch 4000)\n",
      "Epoch [5000/20000], Loss:1.09743618e-03\n",
      "(--> new model saved @ epoch 5000)\n",
      "Epoch [6000/20000], Loss:1.93410937e-03\n",
      "Epoch [7000/20000], Loss:1.49676530e-03\n",
      "Epoch [8000/20000], Loss:9.87845357e-04\n",
      "(--> new model saved @ epoch 8000)\n",
      "Epoch [9000/20000], Loss:9.48119094e-04\n",
      "(--> new model saved @ epoch 9000)\n",
      "Epoch [10000/20000], Loss:6.50034752e-04\n",
      "(--> new model saved @ epoch 10000)\n",
      "Epoch [11000/20000], Loss:2.67628161e-03\n",
      "Epoch [12000/20000], Loss:1.34404353e-03\n",
      "Epoch [13000/20000], Loss:6.16564590e-04\n",
      "(--> new model saved @ epoch 13000)\n",
      "Epoch [14000/20000], Loss:1.05300639e-03\n",
      "Epoch [15000/20000], Loss:1.17947557e-03\n",
      "Epoch [16000/20000], Loss:9.00258601e-04\n",
      "Epoch [17000/20000], Loss:6.29676098e-04\n",
      "Epoch [18000/20000], Loss:6.85186824e-04\n",
      "Epoch [19000/20000], Loss:4.10669076e-04\n",
      "(--> new model saved @ epoch 19000)\n",
      "Epoch [20000/20000], Loss:6.00307947e-04\n",
      "Running testing for i = 8  of  [ 1  2  3  4  5  6  7  8  9 10]\n",
      "Epoch [1000/20000], Loss:3.97576205e-03\n",
      "(--> new model saved @ epoch 1000)\n",
      "Epoch [2000/20000], Loss:1.77871238e-03\n",
      "(--> new model saved @ epoch 2000)\n",
      "Epoch [3000/20000], Loss:1.15262519e-03\n",
      "(--> new model saved @ epoch 3000)\n",
      "Epoch [4000/20000], Loss:1.10575929e-03\n",
      "(--> new model saved @ epoch 4000)\n",
      "Epoch [5000/20000], Loss:9.19543323e-04\n",
      "(--> new model saved @ epoch 5000)\n",
      "Epoch [6000/20000], Loss:2.20425869e-03\n",
      "Epoch [7000/20000], Loss:6.11687254e-04\n",
      "(--> new model saved @ epoch 7000)\n",
      "Epoch [8000/20000], Loss:9.42940242e-04\n",
      "Epoch [9000/20000], Loss:3.32306395e-03\n",
      "Epoch [10000/20000], Loss:4.12746333e-04\n",
      "(--> new model saved @ epoch 10000)\n",
      "Epoch [11000/20000], Loss:4.49478073e-04\n",
      "Epoch [12000/20000], Loss:5.58509724e-04\n",
      "Epoch [13000/20000], Loss:4.58256487e-04\n",
      "Epoch [14000/20000], Loss:8.31085839e-04\n",
      "Epoch [15000/20000], Loss:3.17335041e-04\n",
      "(--> new model saved @ epoch 15000)\n",
      "Epoch [16000/20000], Loss:9.23293934e-04\n",
      "Epoch [17000/20000], Loss:1.20495469e-03\n",
      "Epoch [18000/20000], Loss:4.04730759e-04\n",
      "Epoch [19000/20000], Loss:7.73409964e-04\n",
      "Epoch [20000/20000], Loss:3.39073420e-04\n",
      "Running testing for i = 9  of  [ 1  2  3  4  5  6  7  8  9 10]\n",
      "Epoch [1000/20000], Loss:2.63003772e-03\n",
      "(--> new model saved @ epoch 1000)\n",
      "Epoch [2000/20000], Loss:1.44789089e-03\n",
      "(--> new model saved @ epoch 2000)\n",
      "Epoch [3000/20000], Loss:1.05572678e-03\n",
      "(--> new model saved @ epoch 3000)\n",
      "Epoch [4000/20000], Loss:8.63919500e-04\n",
      "(--> new model saved @ epoch 4000)\n",
      "Epoch [5000/20000], Loss:1.00177631e-03\n",
      "Epoch [6000/20000], Loss:6.94236776e-04\n",
      "(--> new model saved @ epoch 6000)\n",
      "Epoch [7000/20000], Loss:6.73626142e-04\n",
      "(--> new model saved @ epoch 7000)\n",
      "Epoch [8000/20000], Loss:1.29313872e-03\n",
      "Epoch [9000/20000], Loss:5.50639117e-03\n",
      "Epoch [10000/20000], Loss:3.01420921e-03\n",
      "Epoch [11000/20000], Loss:4.37813054e-04\n",
      "(--> new model saved @ epoch 11000)\n",
      "Epoch [12000/20000], Loss:6.42875792e-04\n",
      "Epoch [13000/20000], Loss:4.47242666e-04\n",
      "Epoch [14000/20000], Loss:5.16381115e-04\n",
      "Epoch [15000/20000], Loss:1.65912777e-03\n",
      "Epoch [16000/20000], Loss:8.08458310e-04\n",
      "Epoch [17000/20000], Loss:3.30249080e-04\n",
      "(--> new model saved @ epoch 17000)\n",
      "Epoch [18000/20000], Loss:7.95647851e-04\n",
      "Epoch [19000/20000], Loss:3.06208414e-04\n",
      "(--> new model saved @ epoch 19000)\n",
      "Epoch [20000/20000], Loss:3.21709580e-04\n",
      "Running testing for i = 10  of  [ 1  2  3  4  5  6  7  8  9 10]\n",
      "Epoch [1000/20000], Loss:6.53341506e-03\n",
      "(--> new model saved @ epoch 1000)\n",
      "Epoch [2000/20000], Loss:1.37919164e-03\n",
      "(--> new model saved @ epoch 2000)\n",
      "Epoch [3000/20000], Loss:9.40980739e-04\n",
      "(--> new model saved @ epoch 3000)\n",
      "Epoch [4000/20000], Loss:2.02613370e-03\n",
      "Epoch [5000/20000], Loss:1.07091735e-03\n",
      "Epoch [6000/20000], Loss:5.70288452e-04\n",
      "(--> new model saved @ epoch 6000)\n",
      "Epoch [7000/20000], Loss:4.55534959e-04\n",
      "(--> new model saved @ epoch 7000)\n",
      "Epoch [8000/20000], Loss:5.41372283e-04\n",
      "Epoch [9000/20000], Loss:3.80726735e-04\n",
      "(--> new model saved @ epoch 9000)\n",
      "Epoch [10000/20000], Loss:5.65880036e-04\n",
      "Epoch [11000/20000], Loss:4.65230609e-04\n",
      "Epoch [12000/20000], Loss:6.19522179e-04\n",
      "Epoch [13000/20000], Loss:4.51768079e-04\n",
      "Epoch [14000/20000], Loss:4.51220549e-04\n",
      "Epoch [15000/20000], Loss:3.64098029e-04\n",
      "(--> new model saved @ epoch 15000)\n",
      "Epoch [16000/20000], Loss:4.04607708e-04\n",
      "Epoch [17000/20000], Loss:7.06701714e-04\n",
      "Epoch [18000/20000], Loss:2.26288001e-04\n",
      "(--> new model saved @ epoch 18000)\n",
      "Epoch [19000/20000], Loss:5.80784807e-04\n",
      "Epoch [20000/20000], Loss:2.69890850e-04\n",
      "AE training done !\n"
     ]
    }
   ],
   "source": [
    "epoch=20000\n",
    "sets=train_data.shape[1]\n",
    "\n",
    "# Example usage\n",
    "dataloader = torch.utils.data.DataLoader(train_data, batch_size=32)\n",
    "for i in range(len(loop)):\n",
    "    # Create the autoencoder model\n",
    "    modelAE = AE(i).to(device)\n",
    "    print('Running testing for i =', i+1, ' of ',loop)\n",
    "#     # Train the model\n",
    "    save_path=model_dir+'/KSAE_D{}.pt'.format(i)\n",
    "    train(modelAE, dataloader, num_epochs=epoch, learning_rate=1e-3,model_path=save_path)\n",
    "    autoencoder_output=modelAE(test_data)\n",
    "    #.cpu().detach().numpy()\n",
    "    #### mse_latent[:,sample]=mean_squared_error(test_data.cpu().detach().numpy().reshape(test_data.shape[0]*test_data.shape[1],test_data.shape[2])\n",
    "    # ###,autoencoder_output.cpu().detach().numpy().reshape(autoencoder_output.shape[0]*autoencoder_output.shape[1],autoencoder_output.shape[2]))\n",
    "    ### Norm_latent[:,sample]=norm(test_data.detach().numpy()-autoencoder_output.detach().numpy())/norm(snapshots_test.detach().numpy())   \n",
    "print('AE training done !')"
   ]
  },
  {
   "cell_type": "code",
   "execution_count": 149,
   "metadata": {},
   "outputs": [],
   "source": [
    "### loading best AE models and check mse for testing data"
   ]
  },
  {
   "cell_type": "code",
   "execution_count": 16,
   "metadata": {},
   "outputs": [
    {
     "name": "stdout",
     "output_type": "stream",
     "text": [
      "Running testing for i = 1  of  [ 1  2  3  4  5  6  7  8  9 10]\n",
      "Running testing for i = 2  of  [ 1  2  3  4  5  6  7  8  9 10]\n",
      "Running testing for i = 3  of  [ 1  2  3  4  5  6  7  8  9 10]\n",
      "Running testing for i = 4  of  [ 1  2  3  4  5  6  7  8  9 10]\n",
      "Running testing for i = 5  of  [ 1  2  3  4  5  6  7  8  9 10]\n",
      "Running testing for i = 6  of  [ 1  2  3  4  5  6  7  8  9 10]\n",
      "Running testing for i = 7  of  [ 1  2  3  4  5  6  7  8  9 10]\n",
      "Running testing for i = 8  of  [ 1  2  3  4  5  6  7  8  9 10]\n",
      "Running testing for i = 9  of  [ 1  2  3  4  5  6  7  8  9 10]\n",
      "Running testing for i = 10  of  [ 1  2  3  4  5  6  7  8  9 10]\n"
     ]
    }
   ],
   "source": [
    "sample=0\n",
    "for i in range(len(loop)):\n",
    "    print('Running testing for i =', i+1, ' of ',loop)   \n",
    "    save_path=model_dir+'/KSAE_D{}.pt'.format(i)\n",
    "    loaded_model = AE(i).to(device)\n",
    "    loaded_model.load_state_dict(torch.load(save_path))\n",
    "    autoencoder_output=loaded_model(test_data)\n",
    "    mse_latentAE[:,sample]=criterion(torch.tensor(test_data).float(), torch.tensor(autoencoder_output).float()).mean(-1).mean()\n",
    "    sample=sample+1"
   ]
  },
  {
   "cell_type": "code",
   "execution_count": 151,
   "metadata": {
    "tags": []
   },
   "outputs": [],
   "source": [
    "# mse_latent=loadmat(\"mse_latent.mat\")\n",
    "# mse_latent=mse_latent['mse_latent']"
   ]
  },
  {
   "cell_type": "code",
   "execution_count": 17,
   "metadata": {},
   "outputs": [
    {
     "data": {
      "text/plain": [
       "(10,)"
      ]
     },
     "execution_count": 17,
     "metadata": {},
     "output_type": "execute_result"
    }
   ],
   "source": [
    "AE_loss=mse_latentAE.reshape(mse_latentAE.shape[1]).cpu().detach().numpy()\n",
    "AE_loss.shape"
   ]
  },
  {
   "cell_type": "code",
   "execution_count": 18,
   "metadata": {
    "id": "_2UMn7u1p6Iq",
    "tags": []
   },
   "outputs": [
    {
     "data": {
      "image/png": "[encoded data removed]",
      "text/plain": [
       "<Figure size 640x480 with 1 Axes>"
      ]
     },
     "metadata": {},
     "output_type": "display_data"
    }
   ],
   "source": [
    "plt.semilogy(mse_latentAE.T,'*')\n",
    "plt.show()"
   ]
  },
  {
   "cell_type": "code",
   "execution_count": 154,
   "metadata": {
    "tags": []
   },
   "outputs": [],
   "source": [
    "#x1=x[0,:,:]\n",
    "#x2=x[1,:,:]"
   ]
  },
  {
   "cell_type": "code",
   "execution_count": 155,
   "metadata": {},
   "outputs": [],
   "source": [
    "# U, S1, Vh = torch.linalg.svd(train_data[0,:,:])\n",
    "# #U2, S2, V2 = torch.linalg.svd(x2)"
   ]
  },
  {
   "cell_type": "code",
   "execution_count": 156,
   "metadata": {
    "tags": []
   },
   "outputs": [],
   "source": [
    "# S1.shape,mse_latent.shape"
   ]
  },
  {
   "cell_type": "code",
   "execution_count": 157,
   "metadata": {
    "tags": []
   },
   "outputs": [],
   "source": [
    "# plt.semilogy(S1[1:15].cpu().detach().numpy(),'o',lw=6)\n",
    "# # plt.semilogy(S2[:16].cpu().detach().numpy(),'+',lw=2)\n",
    "# plt.semilogy(mse_latent.T,'*',lw=6)\n",
    "# plt.legend(['PCA','AE'])\n",
    "# Xt = np.array([0,1,2,3,4,5,6,7,8,9,10,11,12,13])\n",
    "# labels=['2','3','4','5','6','7','8','9','10','11','12','13','14','15']\n",
    "# plt.xticks(Xt,labels)\n",
    "# plt.xlabel('Latent dimension')\n",
    "# plt.ylabel('log (mse)')\n",
    "# plt.grid()\n",
    "# # plt.show()\n",
    "# plt.savefig('../results/KS/PCAvsAE.png',dpi=300)"
   ]
  },
  {
   "cell_type": "markdown",
   "metadata": {},
   "source": [
    "#### PCA"
   ]
  },
  {
   "cell_type": "code",
   "execution_count": 19,
   "metadata": {},
   "outputs": [
    {
     "data": {
      "text/plain": [
       "(torch.Size([10, 5121, 120]), torch.Size([5, 5121, 120]))"
      ]
     },
     "execution_count": 19,
     "metadata": {},
     "output_type": "execute_result"
    }
   ],
   "source": [
    "train_data.shape,test_data.shape"
   ]
  },
  {
   "cell_type": "code",
   "execution_count": 20,
   "metadata": {},
   "outputs": [],
   "source": [
    "PCA_train=train_data[:,:,:]"
   ]
  },
  {
   "cell_type": "code",
   "execution_count": 21,
   "metadata": {},
   "outputs": [
    {
     "name": "stdout",
     "output_type": "stream",
     "text": [
      "torch.Size([51210, 120])\n"
     ]
    }
   ],
   "source": [
    "train_data.shape\n",
    "PCAdata=PCA_train.reshape(PCA_train.shape[0]*PCA_train.shape[1],PCA_train.shape[2])#[:train_data.shape[1]].reshape(train_data.shape[1],2*96*96).to(device)\n",
    "print(PCAdata.shape)\n",
    "PCAtest_data=test_data.reshape(test_data.shape[0]*test_data.shape[1],test_data.shape[2])#[:5120].reshape(5120,2*96*96).to(device)\n",
    "# print(PCAtest_data.shape)"
   ]
  },
  {
   "cell_type": "code",
   "execution_count": 22,
   "metadata": {},
   "outputs": [],
   "source": [
    "from sklearn.decomposition import PCA\n",
    "from sklearn.metrics import mean_squared_error\n",
    "recons_train=[]\n",
    "recons_test=[]\n",
    "latent_dims= loop#np.arange(1,13,1)\n",
    "for n_comp in latent_dims:\n",
    "    pca = PCA(n_components=n_comp) #define PCA model\n",
    "    Xdr=pca.fit_transform(PCAdata.cpu().detach().numpy()) # obatain PCA modes from training data\n",
    "    Xtr=pca.fit_transform(PCAtest_data.cpu().detach().numpy()) #project testing data on PCA modes\n",
    "    Xt_approx=pca.inverse_transform(Xtr) #Back-project the testing data on original space\n",
    "    mse_test=mean_squared_error(PCAtest_data.cpu().detach().numpy(),Xt_approx)\n",
    "    recons_test.append(mse_test)\n",
    "PCA_loss=recons_test"
   ]
  },
  {
   "cell_type": "code",
   "execution_count": 23,
   "metadata": {},
   "outputs": [],
   "source": [
    "# mse_latentAE=mse_latentAE[:,:10]\n",
    "# mse_latentAE.shape\n",
    "# PCA_loss=recons_test"
   ]
  },
  {
   "cell_type": "code",
   "execution_count": 24,
   "metadata": {},
   "outputs": [
    {
     "data": {
      "text/plain": [
       "((10,), (10,))"
      ]
     },
     "execution_count": 24,
     "metadata": {},
     "output_type": "execute_result"
    }
   ],
   "source": [
    "AE_loss.shape,latent_dims.shape#,PCA_loss.shape"
   ]
  },
  {
   "cell_type": "code",
   "execution_count": 31,
   "metadata": {},
   "outputs": [
    {
     "data": {
      "text/plain": [
       "'../results/KS/data'"
      ]
     },
     "execution_count": 31,
     "metadata": {},
     "output_type": "execute_result"
    }
   ],
   "source": [
    "path"
   ]
  },
  {
   "cell_type": "code",
   "execution_count": 33,
   "metadata": {},
   "outputs": [
    {
     "name": "stdout",
     "output_type": "stream",
     "text": [
      "AE:  [0.20127594470977783, 0.057176291942596436, 0.019979702308773994, 0.005468179006129503, 0.0013390613021329045, 0.0015558983432129025, 0.00044592280755750835, 0.00029978761449456215, 0.00043372175423428416, 0.0002446057624183595]\n",
      "PCA:  [0.98074174, 0.73042864, 0.5027473, 0.29643142, 0.19793345, 0.11385487, 0.07356788, 0.038829103, 0.024491576, 0.010183429]\n"
     ]
    },
    {
     "data": {
      "image/png": "[encoded data removed]",
      "text/plain": [
       "<Figure size 800x600 with 1 Axes>"
      ]
     },
     "metadata": {},
     "output_type": "display_data"
    }
   ],
   "source": [
    "plt.figure(figsize=(8, 6))\n",
    "plt.semilogy(latent_dims, AE_loss, marker='s',markersize=12,label='Autoencoder',color='blue')\n",
    "plt.semilogy(latent_dims, recons_test, marker='o',markersize=12,label='PCA',color='gray')\n",
    "# plt.title('Reconstruction Error vs Latent Dimensions for {} systems'.format(system))\n",
    "plt.xlabel('Number of Latent Dimensions')\n",
    "plt.ylabel('MSE')\n",
    "plt.grid(True)\n",
    "plt.legend()\n",
    "figname='/KSAEvsPCA'\n",
    "plt.savefig(path+figname, bbox_inches='tight')\n",
    "# plt.show()\n",
    "\n",
    "\n",
    "print('AE: ',[item.item() for item in AE_loss])\n",
    "print('PCA: ',recons_test)"
   ]
  },
  {
   "cell_type": "markdown",
   "metadata": {},
   "source": [
    "### Saving the variables"
   ]
  },
  {
   "cell_type": "code",
   "execution_count": 27,
   "metadata": {},
   "outputs": [
    {
     "data": {
      "text/plain": [
       "'../results/KS/data'"
      ]
     },
     "execution_count": 27,
     "metadata": {},
     "output_type": "execute_result"
    }
   ],
   "source": [
    "path"
   ]
  },
  {
   "cell_type": "code",
   "execution_count": 29,
   "metadata": {},
   "outputs": [
    {
     "data": {
      "text/plain": [
       "(array([0.20127594, 0.05717629, 0.0199797 , 0.00546818, 0.00133906,\n",
       "        0.0015559 , 0.00044592, 0.00029979, 0.00043372, 0.00024461],\n",
       "       dtype=float32),\n",
       " [0.98074174,\n",
       "  0.73042864,\n",
       "  0.5027473,\n",
       "  0.29643142,\n",
       "  0.19793345,\n",
       "  0.11385487,\n",
       "  0.07356788,\n",
       "  0.038829103,\n",
       "  0.024491576,\n",
       "  0.010183429])"
      ]
     },
     "execution_count": 29,
     "metadata": {},
     "output_type": "execute_result"
    }
   ],
   "source": [
    "AE_loss,PCA_loss"
   ]
  },
  {
   "cell_type": "code",
   "execution_count": 30,
   "metadata": {
    "id": "4wzvJdPEr7iq"
   },
   "outputs": [],
   "source": [
    "# torch tensor\n",
    "mdic = {'AE_loss': AE_loss,'PCA_loss': PCA_loss}\n",
    "savemat(path + '/KSmse_latent.mat', mdic)"
   ]
  },
  {
   "cell_type": "code",
   "execution_count": 57,
   "metadata": {},
   "outputs": [
    {
     "name": "stdout",
     "output_type": "stream",
     "text": [
      "done\n"
     ]
    }
   ],
   "source": [
    "print('done')"
   ]
  },
  {
   "cell_type": "code",
   "execution_count": null,
   "metadata": {},
   "outputs": [],
   "source": []
  },
  {
   "cell_type": "code",
   "execution_count": null,
   "metadata": {},
   "outputs": [],
   "source": []
  }
 ],
 "metadata": {
  "accelerator": "GPU",
  "colab": {
   "provenance": []
  },
  "gpuClass": "standard",
  "kernelspec": {
   "display_name": "Python 3 (ipykernel)",
   "language": "python",
   "name": "python3"
  },
  "language_info": {
   "codemirror_mode": {
    "name": "ipython",
    "version": 3
   },
   "file_extension": ".py",
   "mimetype": "text/x-python",
   "name": "python",
   "nbconvert_exporter": "python",
   "pygments_lexer": "ipython3",
   "version": "3.9.16"
  }
 },
 "nbformat": 4,
 "nbformat_minor": 4
}
