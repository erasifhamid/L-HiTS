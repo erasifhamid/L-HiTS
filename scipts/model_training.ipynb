{
 "cells": [
  {
   "cell_type": "markdown",
   "metadata": {},
   "source": [
    "## Train models"
   ]
  },
  {
   "cell_type": "markdown",
   "metadata": {},
   "source": [
    "### Asif Hamid bhat "
   ]
  },
  {
   "cell_type": "markdown",
   "metadata": {},
   "source": [
    "code originally created by Yuying Liu,\n",
    "This script is a template for training various models."
   ]
  },
  {
   "cell_type": "code",
   "execution_count": 1,
   "metadata": {
    "tags": []
   },
   "outputs": [],
   "source": [
    "### clear ram\n",
    "# import torch\n",
    "# with torch.no_grad():\n",
    "#     torch.cuda.empty_cache()\n",
    "# %reset"
   ]
  },
  {
   "cell_type": "code",
   "execution_count": 1,
   "metadata": {
    "tags": []
   },
   "outputs": [],
   "source": [
    "import os\n",
    "import matplotlib.pyplot as plt\n",
    "import sys\n",
    "import torch\n",
    "import numpy as np\n",
    "import time\n",
    "from tqdm import tqdm\n",
    "import warnings\n",
    "warnings.filterwarnings('ignore')\n",
    "module_path = os.path.abspath(os.path.join('../src/'))\n",
    "if module_path not in sys.path:\n",
    "    sys.path.append(module_path) \n",
    "from Autoencoder import *\n",
    "from utils import *\n",
    "import ResNet as net\n",
    "# import lstmrnn"
   ]
  },
  {
   "cell_type": "code",
   "execution_count": 2,
   "metadata": {
    "tags": []
   },
   "outputs": [],
   "source": [
    "# adjustables\n",
    "k = list(range(11))            # model index: should be in {0, 2, ..., 10}\n",
    "dt = 0.01  # time unit: 0.0005 for Lorenz and 0.01 for others\n",
    "model_prefix='KS'\n",
    "system = 'KS'         # system name: \"\"FHN\",\"KS,'RD'\n",
    "noise = 0.0                    #noise levels: 0.0, 0.01, 0.02, 0.05 ,0.1, 0.2\n",
    "hidden_size=10\n",
    "lr = 1e-3                     # learning rate\n",
    "max_epoch = 10000            # the maximum training epoch\n",
    "            # training batch size\n",
    "# arch = [200, 128, 64,4, 128,64, 200]  # architecture of the neural network (check paper for details)"
   ]
  },
  {
   "cell_type": "code",
   "execution_count": 3,
   "metadata": {
    "tags": []
   },
   "outputs": [],
   "source": [
    "# paths\n",
    "data_dir = os.path.join('../data/', system)\n",
    "model_dir = os.path.join('../models/', system)\n",
    "path_to_result=os.path.join('../results/', system)\n",
    "device = torch.device(\"cuda\" if torch.cuda.is_available() else \"cpu\")\n",
    "# global const\n",
    "n_forward = 5"
   ]
  },
  {
   "cell_type": "markdown",
   "metadata": {
    "jp-MarkdownHeadingCollapsed": true,
    "tags": []
   },
   "source": [
    "### LOAD DATA"
   ]
  },
  {
   "cell_type": "markdown",
   "metadata": {},
   "source": [
    "### LOAD DATA"
   ]
  },
  {
   "cell_type": "code",
   "execution_count": 4,
   "metadata": {
    "tags": []
   },
   "outputs": [],
   "source": [
    "train_data = torch.load(data_dir + \"/train_data.pt\")\n",
    "val_data = torch.load(data_dir + \"/val_data.pt\")\n",
    "test_data = torch.load(data_dir + \"/test_data.pt\")\n",
    "train_data=train_data[:10,:,:]\n",
    "# val_data=val_data[:,:-1,:]\n",
    "\n",
    "# test_data=test_data[:,:-1,:]\n",
    "T1=train_data.shape[1]-1\n",
    "T2=2*T1\n",
    "T3=3*T1\n",
    "T5=5*T1\n",
    "T7=7*T1\n",
    "T10=10*T1\n",
    "n=train_data.shape[2]"
   ]
  },
  {
   "cell_type": "code",
   "execution_count": 5,
   "metadata": {},
   "outputs": [],
   "source": [
    "train_data=train_data[:10,:,:]"
   ]
  },
  {
   "cell_type": "code",
   "execution_count": 6,
   "metadata": {
    "tags": []
   },
   "outputs": [
    {
     "data": {
      "text/plain": [
       "(torch.Size([10, 5121, 120]),\n",
       " torch.Size([5, 5121, 120]),\n",
       " torch.Size([5, 5121, 120]))"
      ]
     },
     "execution_count": 6,
     "metadata": {},
     "output_type": "execute_result"
    }
   ],
   "source": [
    "train_data.shape,val_data.shape,test_data.shape"
   ]
  },
  {
   "cell_type": "code",
   "execution_count": 7,
   "metadata": {
    "tags": []
   },
   "outputs": [],
   "source": [
    "# test_data = torch.load(data_dir + \"/test_data.pt\")"
   ]
  },
  {
   "cell_type": "code",
   "execution_count": 8,
   "metadata": {
    "tags": []
   },
   "outputs": [],
   "source": [
    "# load data\n",
    "# train_data = np.load(os.path.join(data_dir, 'train_noise{}.npy'.format(noise)))\n",
    "# val_data = np.load(os.path.join(data_dir, 'val_noise{}.npy'.format(noise)))\n",
    "# test_data = np.load(os.path.join(data_dir, 'test_noise{}.npy'.format(noise)))\n",
    "n_train = train_data.shape[0]\n",
    "# n_val = val_data.shape[0]\n",
    "# n_test = test_data.shape[0]\n",
    "batch_size = n_train "
   ]
  },
  {
   "cell_type": "code",
   "execution_count": 9,
   "metadata": {
    "tags": []
   },
   "outputs": [],
   "source": [
    "train_data=torch.tensor(train_data)\n",
    "train_data = train_data.to(torch.float32).to(device)\n",
    "sets=train_data.shape[0]\n",
    "dataloader=torch.utils.data.DataLoader(train_data, batch_size=32) ### 32 for FHN "
   ]
  },
  {
   "cell_type": "markdown",
   "metadata": {
    "tags": []
   },
   "source": [
    "#### Train autoencoder"
   ]
  },
  {
   "cell_type": "code",
   "execution_count": 10,
   "metadata": {
    "tags": []
   },
   "outputs": [],
   "source": [
    "# input_size"
   ]
  },
  {
   "cell_type": "code",
   "execution_count": 11,
   "metadata": {
    "tags": []
   },
   "outputs": [
    {
     "data": {
      "text/plain": [
       "'../models/KS'"
      ]
     },
     "execution_count": 11,
     "metadata": {},
     "output_type": "execute_result"
    }
   ],
   "source": [
    "model_dir"
   ]
  },
  {
   "cell_type": "code",
   "execution_count": 12,
   "metadata": {
    "tags": []
   },
   "outputs": [
    {
     "name": "stdout",
     "output_type": "stream",
     "text": [
      "Epoch [1000/5000], Loss:3.34468368e-03\n",
      "(--> new model saved @ epoch 1000)\n",
      "Epoch [2000/5000], Loss:1.55382394e-03\n",
      "(--> new model saved @ epoch 2000)\n",
      "Epoch [3000/5000], Loss:2.60697072e-03\n",
      "Epoch [4000/5000], Loss:8.88397277e-04\n",
      "(--> new model saved @ epoch 4000)\n",
      "Epoch [5000/5000], Loss:7.70210230e-04\n",
      "(--> new model saved @ epoch 5000)\n"
     ]
    }
   ],
   "source": [
    "# define model and train\n",
    "######Define the autoencoder class\n",
    "input_size=train_data.shape[2]\n",
    "L1=120  ### 100,100,100 for fhn and 120,120,100 for KS\n",
    "L2=120\n",
    "L3=100\n",
    "modelAE = AE(L1,L2,L3,input_size, hidden_size).to(device)\n",
    "num_epochs = 5000 # 5,000 for FHN,KS\n",
    "learning_rate = 1e-3\n",
    "aemodel='/AE_{}.pt'.format(hidden_size)\n",
    "save_path=model_dir+aemodel\n",
    "train(modelAE, dataloader, num_epochs=num_epochs, learning_rate=1e-3,model_path=save_path)\n",
    "###modelAE.train(dataloader=dataloader, num_epochs=num_epochs, learning_rate=learning_rate)\n",
    "# torch.save(modelAE.state_dict(), '../models/FHN/AE_{}.pt'.format(hidden_size))"
   ]
  },
  {
   "cell_type": "code",
   "execution_count": 13,
   "metadata": {
    "tags": []
   },
   "outputs": [],
   "source": [
    "# model_dir,device"
   ]
  },
  {
   "cell_type": "code",
   "execution_count": 14,
   "metadata": {
    "tags": []
   },
   "outputs": [],
   "source": [
    "### original\n",
    "# define model and train\n",
    "# #####Define the autoencoder class\n",
    "# import time\n",
    "# input_size=train_data.shape[2]\n",
    "# hidden_size=2\n",
    "# L11=100\n",
    "# L2=100\n",
    "# L3=100\n",
    "# epochs = 5000\n",
    "# modelAE = AE(L11,L2,L3,input_size, hidden_size).to(device)\n",
    "# save_path=model_dir+'/FHNAE_best.pt'\n",
    "# save_path=model_dir+'/KStest.pt'\n",
    "# start_ae=time.time()\n",
    "# train(modelAE, dataloader, num_epochs=epochs, learning_rate=1e-3,model_path=save_path)\n",
    "# end_ae=time.time()\n",
    "# ae_cputime=end_ae-start_ae\n",
    "# print('done!')\n",
    "# print(ae_cputime)\n",
    "# trainAE(modelAE,dataloader, num_epochs, learning_rate=1e-4)\n",
    "# torch.save(modelAE.state_dict(), '../models/KS/AE2_{}_{}.pt'.format(hidden_size,n_train))"
   ]
  },
  {
   "cell_type": "code",
   "execution_count": 15,
   "metadata": {
    "tags": []
   },
   "outputs": [
    {
     "data": {
      "text/plain": [
       "<All keys matched successfully>"
      ]
     },
     "execution_count": 15,
     "metadata": {},
     "output_type": "execute_result"
    }
   ],
   "source": [
    "####Load FHN AE BEST models\n",
    "modelAE.load_state_dict(torch.load(save_path))"
   ]
  },
  {
   "cell_type": "code",
   "execution_count": 16,
   "metadata": {
    "tags": []
   },
   "outputs": [],
   "source": [
    "# model_path='../models/FHN/AE_{}_{}.pt'.format(hidden_size,n_train) ###for fhn\n",
    "# model_path='../models/KS/AE2_{}_{}.pt'.format(hidden_size,n_train)\n",
    "# model_state_dict = torch.load(model_path)\n",
    "# modelAE.load_state_dict(model_state_dict)"
   ]
  },
  {
   "cell_type": "code",
   "execution_count": 17,
   "metadata": {
    "tags": []
   },
   "outputs": [
    {
     "data": {
      "text/plain": [
       "(torch.Size([10, 5121, 10]),\n",
       " torch.Size([5, 5121, 10]),\n",
       " torch.Size([5, 5121, 10]))"
      ]
     },
     "execution_count": 17,
     "metadata": {},
     "output_type": "execute_result"
    }
   ],
   "source": [
    "#Data for latent dimension\n",
    "z_train=modelAE.encoder(train_data)\n",
    "z_valid=modelAE.encoder(torch.tensor(val_data[:,:T1+1,:]).to(torch.float32).to(device))\n",
    "z_test=modelAE.encoder(torch.tensor(test_data[:,:T1+1,:]).to(torch.float32).to(device))\n",
    "z_train.shape,z_valid.shape,z_test.shape"
   ]
  },
  {
   "cell_type": "code",
   "execution_count": 18,
   "metadata": {
    "tags": []
   },
   "outputs": [],
   "source": [
    "# data.shape"
   ]
  },
  {
   "cell_type": "markdown",
   "metadata": {
    "tags": []
   },
   "source": [
    "#### Set wise training HIts"
   ]
  },
  {
   "cell_type": "code",
   "execution_count": 19,
   "metadata": {
    "tags": []
   },
   "outputs": [],
   "source": [
    "z_train1=z_train"
   ]
  },
  {
   "cell_type": "code",
   "execution_count": 20,
   "metadata": {
    "tags": []
   },
   "outputs": [
    {
     "data": {
      "text/plain": [
       "torch.Size([10, 5121, 10])"
      ]
     },
     "execution_count": 20,
     "metadata": {},
     "output_type": "execute_result"
    }
   ],
   "source": [
    "z_train1.shape"
   ]
  },
  {
   "cell_type": "code",
   "execution_count": 21,
   "metadata": {
    "tags": []
   },
   "outputs": [
    {
     "data": {
      "text/plain": [
       "(10, 5121, 10)"
      ]
     },
     "execution_count": 21,
     "metadata": {},
     "output_type": "execute_result"
    }
   ],
   "source": [
    "data=z_train1#.reshape(z_train1.shape[0]*z_train1.shape[1],z_train1.shape[2])\n",
    "data=data.cpu().detach().numpy()\n",
    "data.shape"
   ]
  },
  {
   "cell_type": "code",
   "execution_count": 22,
   "metadata": {
    "tags": []
   },
   "outputs": [],
   "source": [
    "# n_steps= data.shape[1] - 1\n",
    "# resdata = np.empty((0, step_size * n_forward + 1, data.shape[2]))\n",
    "# for step_size in step_sizes:\n",
    "#     for j in range(10):\n",
    "#         data=z_train1[j,:,:].cpu().detach().numpy()\n",
    "#         m = int(np.ceil(n_steps/(step_size*n_forward)))\n",
    "#         pdata = np.zeros((m, step_size*n_forward+1, data.shape[1]))\n",
    "#         print(pdata.shape)\n",
    "#         for i in range(m):\n",
    "#             start_idx = i*step_size*n_forward\n",
    "#             end_idx = start_idx + step_size*n_forward + 1\n",
    "#             tmp = data[start_idx:end_idx, :]\n",
    "#             pdata[i, :tmp.shape[0], :] = tmp\n",
    "#         resdata = np.concatenate((resdata, pdata), axis=0)"
   ]
  },
  {
   "cell_type": "code",
   "execution_count": 23,
   "metadata": {
    "tags": []
   },
   "outputs": [
    {
     "data": {
      "text/plain": [
       "10"
      ]
     },
     "execution_count": 23,
     "metadata": {},
     "output_type": "execute_result"
    }
   ],
   "source": [
    "sets"
   ]
  },
  {
   "cell_type": "code",
   "execution_count": 24,
   "metadata": {
    "tags": []
   },
   "outputs": [
    {
     "data": {
      "text/plain": [
       "5120"
      ]
     },
     "execution_count": 24,
     "metadata": {},
     "output_type": "execute_result"
    }
   ],
   "source": [
    "n_steps = data.shape[1] - 1\n",
    "n_steps"
   ]
  },
  {
   "cell_type": "code",
   "execution_count": 25,
   "metadata": {
    "tags": []
   },
   "outputs": [
    {
     "data": {
      "text/plain": [
       "torch.Size([10, 5121, 10])"
      ]
     },
     "execution_count": 25,
     "metadata": {},
     "output_type": "execute_result"
    }
   ],
   "source": [
    "z_train1.shape"
   ]
  },
  {
   "cell_type": "code",
   "execution_count": 26,
   "metadata": {
    "tags": []
   },
   "outputs": [
    {
     "name": "stdout",
     "output_type": "stream",
     "text": [
      "MODEL: KS_D1_h10\n",
      "epoch 1000, training loss 0.0007058691699057817, validation loss 0.0008411856251768768\n",
      "(--> new model saved @ epoch 1000)\n",
      "epoch 2000, training loss 0.0004134595219511539, validation loss 0.0004330627270974219\n",
      "(--> new model saved @ epoch 2000)\n",
      "epoch 3000, training loss 0.0004702173755504191, validation loss 0.00040564732626080513\n",
      "(--> new model saved @ epoch 3000)\n",
      "epoch 4000, training loss 0.00032227145857177675, validation loss 0.0003826737229246646\n",
      "(--> new model saved @ epoch 4000)\n",
      "epoch 5000, training loss 0.0003899821313098073, validation loss 0.00038749989471398294\n",
      "epoch 6000, training loss 0.0002578617713879794, validation loss 0.0003761422703973949\n",
      "(--> new model saved @ epoch 6000)\n",
      "epoch 7000, training loss 0.0003352499916218221, validation loss 0.0003616265021264553\n",
      "(--> new model saved @ epoch 7000)\n",
      "epoch 8000, training loss 0.00034778594272211194, validation loss 0.00035482741077430546\n",
      "(--> new model saved @ epoch 8000)\n",
      "epoch 9000, training loss 0.00039841534453444183, validation loss 0.00040269765304401517\n",
      "epoch 10000, training loss 0.0001730529620544985, validation loss 0.0002633297990541905\n",
      "(--> new model saved @ epoch 10000)\n",
      "epoch 11000, training loss 0.00022869794338475913, validation loss 0.0002559119602665305\n",
      "(--> new model saved @ epoch 11000)\n",
      "epoch 12000, training loss 0.00030877129756845534, validation loss 0.00033523220918141305\n",
      "epoch 13000, training loss 0.0002640770690049976, validation loss 0.0003279979864601046\n",
      "epoch 14000, training loss 0.00019923174113500863, validation loss 0.00020528871391434222\n",
      "(--> new model saved @ epoch 14000)\n",
      "epoch 15000, training loss 0.00024233461590483785, validation loss 0.0002600989246275276\n",
      "epoch 16000, training loss 0.00019959556811954826, validation loss 0.00020548819156829268\n",
      "epoch 17000, training loss 0.00019294675439596176, validation loss 0.00023617305851075798\n",
      "epoch 18000, training loss 0.00013267160102259368, validation loss 0.00017478252993896604\n",
      "(--> new model saved @ epoch 18000)\n",
      "epoch 19000, training loss 0.00019518747285474092, validation loss 0.00018296226335223764\n",
      "epoch 20000, training loss 0.00018492912931833416, validation loss 0.00017507692973595113\n",
      "MODEL: KS_D2_h10\n",
      "epoch 1000, training loss 0.002984807128086686, validation loss 0.0028377750422805548\n",
      "(--> new model saved @ epoch 1000)\n",
      "epoch 2000, training loss 0.0014021402457728982, validation loss 0.001834280788898468\n",
      "(--> new model saved @ epoch 2000)\n",
      "epoch 3000, training loss 0.0018392306519672275, validation loss 0.0014567752368748188\n",
      "(--> new model saved @ epoch 3000)\n",
      "epoch 4000, training loss 0.0016949251294136047, validation loss 0.0015529970405623317\n",
      "epoch 5000, training loss 0.0011443407274782658, validation loss 0.001236850512214005\n",
      "(--> new model saved @ epoch 5000)\n",
      "epoch 6000, training loss 0.0012929586227983236, validation loss 0.0014424400869756937\n",
      "epoch 7000, training loss 0.001017761300317943, validation loss 0.0009852981893345714\n",
      "(--> new model saved @ epoch 7000)\n",
      "epoch 8000, training loss 0.0007271690992638469, validation loss 0.0008506713202223182\n",
      "(--> new model saved @ epoch 8000)\n",
      "epoch 9000, training loss 0.0013898930046707392, validation loss 0.0014881218085065484\n",
      "epoch 10000, training loss 0.0007461770437657833, validation loss 0.0008572989609092474\n",
      "epoch 11000, training loss 0.001303328899666667, validation loss 0.001501081744208932\n",
      "epoch 12000, training loss 0.0004655088414438069, validation loss 0.0006952516851015389\n",
      "(--> new model saved @ epoch 12000)\n",
      "epoch 13000, training loss 0.0009974958375096321, validation loss 0.0009051761007867754\n",
      "epoch 14000, training loss 0.0004556937492452562, validation loss 0.0006001086439937353\n",
      "(--> new model saved @ epoch 14000)\n",
      "epoch 15000, training loss 0.0007372566033154726, validation loss 0.0008335979655385017\n",
      "epoch 16000, training loss 0.0006372120114974678, validation loss 0.0006749058375135064\n",
      "epoch 17000, training loss 0.0003881090087816119, validation loss 0.00045981802395544946\n",
      "(--> new model saved @ epoch 17000)\n",
      "epoch 18000, training loss 0.00039576052222400904, validation loss 0.00044802689808420837\n",
      "(--> new model saved @ epoch 18000)\n",
      "epoch 19000, training loss 0.00029463847749866545, validation loss 0.0004036469617858529\n",
      "(--> new model saved @ epoch 19000)\n",
      "epoch 20000, training loss 0.0004915172467008233, validation loss 0.0004548948199953884\n",
      "MODEL: KS_D4_h10\n",
      "epoch 1000, training loss 0.0033235549926757812, validation loss 0.0043440996669232845\n",
      "(--> new model saved @ epoch 1000)\n",
      "epoch 2000, training loss 0.002437593648210168, validation loss 0.003261606441810727\n",
      "(--> new model saved @ epoch 2000)\n",
      "epoch 3000, training loss 0.002550426870584488, validation loss 0.003152653807774186\n",
      "(--> new model saved @ epoch 3000)\n",
      "epoch 4000, training loss 0.0037909841630607843, validation loss 0.003799093421548605\n",
      "epoch 5000, training loss 0.002491030376404524, validation loss 0.0042023868300020695\n",
      "epoch 6000, training loss 0.0018309862352907658, validation loss 0.0017416274640709162\n",
      "(--> new model saved @ epoch 6000)\n",
      "epoch 7000, training loss 0.003054705448448658, validation loss 0.0019156315829604864\n",
      "epoch 8000, training loss 0.002029201714321971, validation loss 0.0030202821362763643\n",
      "epoch 9000, training loss 0.0022290421184152365, validation loss 0.0018217632314190269\n",
      "epoch 10000, training loss 0.0014653947437182069, validation loss 0.0017713869456201792\n",
      "epoch 11000, training loss 0.00132669135928154, validation loss 0.0018051286460831761\n",
      "epoch 12000, training loss 0.0013363459147512913, validation loss 0.0016679264372214675\n",
      "(--> new model saved @ epoch 12000)\n",
      "epoch 13000, training loss 0.0011236509308218956, validation loss 0.0017323318170383573\n",
      "epoch 14000, training loss 0.0013151817256584764, validation loss 0.0017916777869686484\n",
      "epoch 15000, training loss 0.0012573349522426724, validation loss 0.0014105492737144232\n",
      "(--> new model saved @ epoch 15000)\n",
      "epoch 16000, training loss 0.0018861943390220404, validation loss 0.0015414899680763483\n",
      "epoch 17000, training loss 0.0012688515707850456, validation loss 0.0015842485008761287\n",
      "epoch 18000, training loss 0.0005704605719074607, validation loss 0.0007943711243569851\n",
      "(--> new model saved @ epoch 18000)\n",
      "epoch 19000, training loss 0.0008806489058770239, validation loss 0.0007538064965046942\n",
      "(--> new model saved @ epoch 19000)\n",
      "epoch 20000, training loss 0.0013950663851574063, validation loss 0.0013224661815911531\n",
      "MODEL: KS_D8_h10\n",
      "epoch 1000, training loss 0.01691470295190811, validation loss 0.014389346353709698\n",
      "(--> new model saved @ epoch 1000)\n",
      "epoch 2000, training loss 0.016031919047236443, validation loss 0.013128134422004223\n",
      "(--> new model saved @ epoch 2000)\n",
      "epoch 3000, training loss 0.009146621450781822, validation loss 0.007721482776105404\n",
      "(--> new model saved @ epoch 3000)\n",
      "epoch 4000, training loss 0.007965932600200176, validation loss 0.007797425612807274\n",
      "epoch 5000, training loss 0.014905977062880993, validation loss 0.014766331762075424\n",
      "epoch 6000, training loss 0.009234735742211342, validation loss 0.009206158109009266\n",
      "epoch 7000, training loss 0.005620565265417099, validation loss 0.004445862956345081\n",
      "(--> new model saved @ epoch 7000)\n",
      "epoch 8000, training loss 0.005561480298638344, validation loss 0.004625887144356966\n",
      "epoch 9000, training loss 0.005175009835511446, validation loss 0.0036609505768865347\n",
      "(--> new model saved @ epoch 9000)\n",
      "epoch 10000, training loss 0.008001354523003101, validation loss 0.00641965726390481\n",
      "epoch 11000, training loss 0.002741066738963127, validation loss 0.003129121381789446\n",
      "(--> new model saved @ epoch 11000)\n",
      "epoch 12000, training loss 0.004786659963428974, validation loss 0.0036303121596574783\n",
      "epoch 13000, training loss 0.002421786542981863, validation loss 0.003258692566305399\n",
      "epoch 14000, training loss 0.004511289298534393, validation loss 0.0036249570548534393\n",
      "epoch 15000, training loss 0.005330818705260754, validation loss 0.0037654293701052666\n",
      "epoch 16000, training loss 0.00531343650072813, validation loss 0.006660644430667162\n",
      "epoch 17000, training loss 0.0018381191184744239, validation loss 0.0021351492032408714\n",
      "(--> new model saved @ epoch 17000)\n",
      "epoch 18000, training loss 0.0016545760445296764, validation loss 0.002003034343943\n",
      "(--> new model saved @ epoch 18000)\n",
      "epoch 19000, training loss 0.0011592342052608728, validation loss 0.001197621924802661\n",
      "(--> new model saved @ epoch 19000)\n",
      "epoch 20000, training loss 0.0026043588295578957, validation loss 0.0022394913248717785\n",
      "MODEL: KS_D16_h10\n",
      "epoch 1000, training loss 0.02856670320034027, validation loss 0.025154074653983116\n",
      "(--> new model saved @ epoch 1000)\n",
      "epoch 2000, training loss 0.025842461735010147, validation loss 0.023143555968999863\n",
      "(--> new model saved @ epoch 2000)\n",
      "epoch 3000, training loss 0.015477985143661499, validation loss 0.013475243002176285\n",
      "(--> new model saved @ epoch 3000)\n",
      "epoch 4000, training loss 0.010199547745287418, validation loss 0.00982354674488306\n",
      "(--> new model saved @ epoch 4000)\n",
      "epoch 5000, training loss 0.017041770741343498, validation loss 0.014691113494336605\n",
      "epoch 6000, training loss 0.015628362074494362, validation loss 0.014410759322345257\n",
      "epoch 7000, training loss 0.011495944112539291, validation loss 0.013135991990566254\n",
      "epoch 8000, training loss 0.009403912350535393, validation loss 0.013077467679977417\n",
      "epoch 9000, training loss 0.006224889773875475, validation loss 0.005287565290927887\n",
      "(--> new model saved @ epoch 9000)\n",
      "epoch 10000, training loss 0.0021920292638242245, validation loss 0.0017362503567710519\n",
      "(--> new model saved @ epoch 10000)\n",
      "epoch 11000, training loss 0.006846545729786158, validation loss 0.007624431978911161\n",
      "epoch 12000, training loss 0.007876959629356861, validation loss 0.008267391473054886\n",
      "epoch 13000, training loss 0.009726477786898613, validation loss 0.0063566043972969055\n",
      "epoch 14000, training loss 0.01164662092924118, validation loss 0.014978291466832161\n",
      "epoch 15000, training loss 0.008245992474257946, validation loss 0.008357018232345581\n",
      "epoch 16000, training loss 0.009064048528671265, validation loss 0.010175375267863274\n",
      "epoch 17000, training loss 0.007386885583400726, validation loss 0.0075924573466181755\n",
      "epoch 18000, training loss 0.014709542505443096, validation loss 0.014051239937543869\n",
      "epoch 19000, training loss 0.001566160935908556, validation loss 0.001424181624315679\n",
      "(--> new model saved @ epoch 19000)\n",
      "epoch 20000, training loss 0.0014439111109822989, validation loss 0.0013977695489302278\n",
      "(--> new model saved @ epoch 20000)\n",
      "MODEL: KS_D32_h10\n",
      "epoch 1000, training loss 0.061763592064380646, validation loss 0.05200672522187233\n",
      "(--> new model saved @ epoch 1000)\n",
      "epoch 2000, training loss 0.02943561039865017, validation loss 0.03242019563913345\n",
      "(--> new model saved @ epoch 2000)\n",
      "epoch 3000, training loss 0.022570934146642685, validation loss 0.02610190026462078\n",
      "(--> new model saved @ epoch 3000)\n",
      "epoch 4000, training loss 0.012906410731375217, validation loss 0.012509383261203766\n",
      "(--> new model saved @ epoch 4000)\n",
      "epoch 5000, training loss 0.08991840481758118, validation loss 0.08059480041265488\n",
      "epoch 6000, training loss 0.02961958758533001, validation loss 0.031131790950894356\n",
      "epoch 7000, training loss 0.00956583023071289, validation loss 0.008730541914701462\n",
      "(--> new model saved @ epoch 7000)\n",
      "epoch 8000, training loss 0.0025711164344102144, validation loss 0.002754094311967492\n",
      "(--> new model saved @ epoch 8000)\n",
      "epoch 9000, training loss 0.0025229351595044136, validation loss 0.00221783434972167\n",
      "(--> new model saved @ epoch 9000)\n",
      "epoch 10000, training loss 0.0017797222826629877, validation loss 0.0020774726290255785\n",
      "(--> new model saved @ epoch 10000)\n",
      "epoch 11000, training loss 0.0026250816881656647, validation loss 0.0025911766570061445\n",
      "epoch 12000, training loss 0.0014650594675913453, validation loss 0.0015918564749881625\n",
      "(--> new model saved @ epoch 12000)\n",
      "epoch 13000, training loss 0.001637917128391564, validation loss 0.0017876892816275358\n",
      "epoch 14000, training loss 0.0010551362065598369, validation loss 0.0010894451988860965\n",
      "(--> new model saved @ epoch 14000)\n",
      "epoch 15000, training loss 0.0017928661545738578, validation loss 0.001680330140516162\n",
      "epoch 16000, training loss 0.00861013401299715, validation loss 0.0066338954493403435\n",
      "epoch 17000, training loss 0.004901597276329994, validation loss 0.004553682636469603\n",
      "epoch 18000, training loss 0.0008383637759834528, validation loss 0.0007703003939241171\n",
      "(--> new model saved @ epoch 18000)\n",
      "epoch 19000, training loss 0.005196454469114542, validation loss 0.005349720362573862\n",
      "epoch 20000, training loss 0.0043717497028410435, validation loss 0.004571747966110706\n",
      "MODEL: KS_D64_h10\n",
      "epoch 1000, training loss 0.09191874414682388, validation loss 0.10396303236484528\n",
      "(--> new model saved @ epoch 1000)\n",
      "epoch 2000, training loss 0.018596449866890907, validation loss 0.017735641449689865\n",
      "(--> new model saved @ epoch 2000)\n",
      "epoch 3000, training loss 0.009777091443538666, validation loss 0.009384648874402046\n",
      "(--> new model saved @ epoch 3000)\n",
      "epoch 4000, training loss 0.010775642469525337, validation loss 0.01247338205575943\n",
      "epoch 5000, training loss 0.3181540369987488, validation loss 0.42211776971817017\n",
      "epoch 6000, training loss 0.019023997709155083, validation loss 0.021505126729607582\n",
      "epoch 7000, training loss 0.005353064276278019, validation loss 0.006473117042332888\n",
      "(--> new model saved @ epoch 7000)\n",
      "epoch 8000, training loss 0.009371469728648663, validation loss 0.009167946875095367\n",
      "epoch 9000, training loss 0.004420203622430563, validation loss 0.004949268419295549\n",
      "(--> new model saved @ epoch 9000)\n",
      "epoch 10000, training loss 0.0031029635574668646, validation loss 0.002571717370301485\n",
      "(--> new model saved @ epoch 10000)\n",
      "epoch 11000, training loss 0.005261921789497137, validation loss 0.005141116213053465\n",
      "epoch 12000, training loss 0.001600290765054524, validation loss 0.001260895631276071\n",
      "(--> new model saved @ epoch 12000)\n",
      "epoch 13000, training loss 0.0009892812231555581, validation loss 0.0010859019821509719\n",
      "(--> new model saved @ epoch 13000)\n",
      "epoch 14000, training loss 0.002584869274869561, validation loss 0.0022221289109438658\n",
      "epoch 15000, training loss 0.06731756776571274, validation loss 0.057012416422367096\n",
      "epoch 16000, training loss 0.00936096627265215, validation loss 0.009098038077354431\n",
      "epoch 17000, training loss 0.0009888213826343417, validation loss 0.0012070093071088195\n",
      "epoch 18000, training loss 0.0019078516634181142, validation loss 0.002692857524380088\n",
      "epoch 19000, training loss 0.0019693560898303986, validation loss 0.0021961121819913387\n",
      "epoch 20000, training loss 0.009334538131952286, validation loss 0.010938846506178379\n",
      "MODEL: KS_D128_h10\n",
      "epoch 1000, training loss 0.2686770558357239, validation loss 0.29515549540519714\n",
      "(--> new model saved @ epoch 1000)\n",
      "epoch 2000, training loss 0.04722730442881584, validation loss 0.04677949473261833\n",
      "(--> new model saved @ epoch 2000)\n",
      "epoch 3000, training loss 0.027764655649662018, validation loss 0.025629818439483643\n",
      "(--> new model saved @ epoch 3000)\n",
      "epoch 4000, training loss 0.013045128434896469, validation loss 0.01295817457139492\n",
      "(--> new model saved @ epoch 4000)\n",
      "epoch 5000, training loss 0.01730119250714779, validation loss 0.01366061344742775\n",
      "epoch 6000, training loss 0.028900563716888428, validation loss 0.03153519332408905\n",
      "epoch 7000, training loss 0.021393923088908195, validation loss 0.021109404042363167\n",
      "epoch 8000, training loss 0.006975770462304354, validation loss 0.0053955260664224625\n",
      "(--> new model saved @ epoch 8000)\n",
      "epoch 9000, training loss 0.01211004238575697, validation loss 0.012743856757879257\n",
      "epoch 10000, training loss 0.3419780731201172, validation loss 0.29801562428474426\n",
      "epoch 11000, training loss 0.006214874796569347, validation loss 0.0044287387281656265\n",
      "(--> new model saved @ epoch 11000)\n",
      "epoch 12000, training loss 0.0020207948982715607, validation loss 0.0019526459509506822\n",
      "(--> new model saved @ epoch 12000)\n",
      "epoch 13000, training loss 0.0029755234718322754, validation loss 0.0030243664514273405\n",
      "epoch 14000, training loss 0.006288672331720591, validation loss 0.004888106137514114\n",
      "epoch 15000, training loss 0.001812702277675271, validation loss 0.0019083524821326137\n",
      "(--> new model saved @ epoch 15000)\n",
      "epoch 16000, training loss 0.584220826625824, validation loss 0.5153630375862122\n",
      "epoch 17000, training loss 0.007487897295504808, validation loss 0.008311279118061066\n",
      "epoch 18000, training loss 0.0004677408142015338, validation loss 0.0005741781205870211\n",
      "(--> new model saved @ epoch 18000)\n",
      "epoch 19000, training loss 0.00011168114724569023, validation loss 0.00013565196422860026\n",
      "(--> new model saved @ epoch 19000)\n",
      "epoch 20000, training loss 0.0020807781256735325, validation loss 0.0021948902867734432\n",
      "MODEL: KS_D256_h10\n",
      "epoch 1000, training loss 0.17529501020908356, validation loss 0.18179135024547577\n",
      "(--> new model saved @ epoch 1000)\n",
      "epoch 2000, training loss 0.0955190435051918, validation loss 0.0981876403093338\n",
      "(--> new model saved @ epoch 2000)\n",
      "epoch 3000, training loss 0.9854769706726074, validation loss 1.0469261407852173\n",
      "epoch 4000, training loss 0.009701348841190338, validation loss 0.009506633505225182\n",
      "(--> new model saved @ epoch 4000)\n",
      "epoch 5000, training loss 0.016220422461628914, validation loss 0.016424737870693207\n",
      "epoch 6000, training loss 0.17111191153526306, validation loss 0.16375958919525146\n",
      "epoch 7000, training loss 0.0059226155281066895, validation loss 0.005915091838687658\n",
      "(--> new model saved @ epoch 7000)\n",
      "epoch 8000, training loss 0.2159709930419922, validation loss 0.2042551040649414\n",
      "epoch 9000, training loss 0.27305537462234497, validation loss 0.2513333559036255\n",
      "epoch 10000, training loss 0.02569005824625492, validation loss 0.028697744011878967\n",
      "epoch 11000, training loss 0.0028742270078510046, validation loss 0.0030621467158198357\n",
      "(--> new model saved @ epoch 11000)\n",
      "epoch 12000, training loss 0.004243461415171623, validation loss 0.004108326975256205\n",
      "epoch 13000, training loss 0.00045594872790388763, validation loss 0.0004369528032839298\n",
      "(--> new model saved @ epoch 13000)\n",
      "epoch 14000, training loss 0.00020998418040107936, validation loss 0.0002381951198913157\n",
      "(--> new model saved @ epoch 14000)\n",
      "epoch 15000, training loss 0.0005371389561332762, validation loss 0.0005269349785521626\n",
      "epoch 16000, training loss 0.0003444212197791785, validation loss 0.0003670807636808604\n",
      "epoch 17000, training loss 0.0027109794318675995, validation loss 0.0024380178656429052\n",
      "epoch 18000, training loss 0.0010921754874289036, validation loss 0.0011219349689781666\n",
      "epoch 19000, training loss 0.00014278505113907158, validation loss 0.00012543733464553952\n",
      "(--> new model saved @ epoch 19000)\n",
      "epoch 20000, training loss 0.0004356374847702682, validation loss 0.0005551759386435151\n",
      "MODEL: KS_D512_h10\n",
      "epoch 1000, training loss 0.10767979174852371, validation loss 0.10767979174852371\n",
      "(--> new model saved @ epoch 1000)\n",
      "epoch 2000, training loss 0.02413877286016941, validation loss 0.02413877099752426\n",
      "(--> new model saved @ epoch 2000)\n",
      "epoch 3000, training loss 0.005434127990156412, validation loss 0.005434127990156412\n",
      "(--> new model saved @ epoch 3000)\n",
      "epoch 4000, training loss 0.1496625542640686, validation loss 0.1496625542640686\n",
      "epoch 5000, training loss 0.04086534306406975, validation loss 0.04086533933877945\n",
      "epoch 6000, training loss 0.0008829133003018796, validation loss 0.0008829132420942187\n",
      "(--> new model saved @ epoch 6000)\n",
      "epoch 7000, training loss 0.00013329221110325307, validation loss 0.00013329221110325307\n",
      "(--> new model saved @ epoch 7000)\n",
      "epoch 8000, training loss 0.04972511902451515, validation loss 0.04972512274980545\n",
      "epoch 9000, training loss 0.0001496167533332482, validation loss 0.00014961676788516343\n",
      "epoch 10000, training loss 0.049360666424036026, validation loss 0.04936066269874573\n",
      "epoch 11000, training loss 7.27574952179566e-05, validation loss 7.275750249391422e-05\n",
      "(--> new model saved @ epoch 11000)\n",
      "epoch 12000, training loss 1.5953386537148617e-05, validation loss 1.595338835613802e-05\n",
      "(--> new model saved @ epoch 12000)\n",
      "epoch 13000, training loss 0.00011464358249213547, validation loss 0.00011464358249213547\n",
      "epoch 14000, training loss 1.5032489500299562e-05, validation loss 1.5032489500299562e-05\n",
      "(--> new model saved @ epoch 14000)\n",
      "epoch 15000, training loss 0.0003769570030272007, validation loss 0.0003769570030272007\n",
      "epoch 16000, training loss 1.7224658222403377e-05, validation loss 1.7224658222403377e-05\n",
      "epoch 17000, training loss 4.363096377346665e-05, validation loss 4.3630967411445454e-05\n",
      "epoch 18000, training loss 8.110731869237497e-05, validation loss 8.110731141641736e-05\n",
      "epoch 19000, training loss 0.0009328027372248471, validation loss 0.0009328027372248471\n",
      "epoch 20000, training loss 2.97701008094009e-05, validation loss 2.97701008094009e-05\n",
      "MODEL: KS_D1024_h10\n",
      "epoch 1000, training loss 0.006770055741071701, validation loss 0.006770056206732988\n",
      "(--> new model saved @ epoch 1000)\n",
      "epoch 2000, training loss 0.003779146820306778, validation loss 0.0037791470531374216\n",
      "(--> new model saved @ epoch 2000)\n",
      "epoch 3000, training loss 0.00042756315087899566, validation loss 0.00042756315087899566\n",
      "(--> new model saved @ epoch 3000)\n",
      "epoch 4000, training loss 0.00013458292232826352, validation loss 0.0001345829077763483\n",
      "(--> new model saved @ epoch 4000)\n",
      "epoch 5000, training loss 0.00015377855743281543, validation loss 0.00015377857198473066\n",
      "epoch 6000, training loss 0.0017397177871316671, validation loss 0.0017397176707163453\n",
      "epoch 7000, training loss 0.0003690643352456391, validation loss 0.0003690643352456391\n",
      "epoch 8000, training loss 0.0023727919906377792, validation loss 0.0023727919906377792\n",
      "epoch 9000, training loss 0.00021236874454189092, validation loss 0.0002123687299899757\n",
      "epoch 10000, training loss 3.26022673107218e-05, validation loss 3.26022673107218e-05\n",
      "(--> new model saved @ epoch 10000)\n",
      "epoch 11000, training loss 6.544858024426503e-07, validation loss 6.544858024426503e-07\n",
      "(--> new model saved @ epoch 11000)\n",
      "epoch 12000, training loss 1.4711979929415975e-05, validation loss 1.4711979019921273e-05\n",
      "epoch 13000, training loss 1.2101105895112596e-08, validation loss 1.2101106783291016e-08\n",
      "(--> new model saved @ epoch 13000)\n",
      "epoch 14000, training loss 3.8135614457979194e-12, validation loss 3.8135614457979194e-12\n",
      "(--> new model saved @ epoch 14000)\n",
      "--> model has reached an accuracy of 1e-8! Finished training!\n",
      "--> new model saved @ epoch 14001\n",
      "1621.5792562961578\n",
      "# of params:  23327854\n"
     ]
    }
   ],
   "source": [
    "### one set training \n",
    "# dummy parameter\n",
    "data=z_train1[:10,:,:]#.reshape(z_train1.shape[0]*z_train1.shape[1],z_train1.shape[2])\n",
    "sets=z_train1.shape[0]\n",
    "data=data.cpu().detach().numpy()\n",
    "models = list()\n",
    "L1=128\n",
    "L2=256\n",
    "L3=512\n",
    "L4=1024\n",
    "L5=2048\n",
    "z=hidden_size\n",
    "#[z,L1,L2,L3,L4,L5,L4,L3,L2,L1,z]\n",
    "dt = 1  \n",
    "n_forward=5\n",
    "# step_sizes=[256]\n",
    "# step_sizes=[1,6,36,216,1296]\n",
    "step_sizes=[1,2,4,8,16,32,64,128,256,512,1024]\n",
    "# step_sizes=[16,32,64,128,256,512,1024]\n",
    "# step_sizes=[1]\n",
    "# training\n",
    "max_epoch=20000\n",
    "start=time.time()\n",
    "n_steps = data.shape[1] - 1  # number of forward steps\n",
    "for step_size in step_sizes:\n",
    "    resdata = np.empty((0, step_size * n_forward + 1, z_train1.shape[2]))\n",
    "    for j in range(sets):\n",
    "        data=z_train1[j,:,:].cpu().detach().numpy()\n",
    "        m = int(np.ceil(n_steps/(step_size*n_forward)))\n",
    "        pdata = np.zeros((m, step_size*n_forward+1, data.shape[1]))\n",
    "        for i in range(m):\n",
    "            start_idx = i*step_size*n_forward\n",
    "            end_idx = start_idx + step_size*n_forward + 1\n",
    "            tmp = data[start_idx:end_idx, :]\n",
    "            pdata[i, :tmp.shape[0], :] = tmp\n",
    "        resdata = np.concatenate((resdata, pdata), axis=0)\n",
    "    pdata=resdata\n",
    "    dataset = net.DataSet(pdata, pdata, data[np.newaxis, :], dt, step_size, n_forward)\n",
    "    model_name = 'modelKS_D{}_h{}.pt'.format(step_size,hidden_size)\n",
    "    print('MODEL: '+model_prefix+'_D{}_h{}'.format(step_size,hidden_size))\n",
    "    model = net.ResNet(arch=[z,L4,L4,L4,z], dt=dt, step_size=step_size)\n",
    "    model.train_net(dataset, max_epoch=max_epoch, batch_size=32, lr=1e-3, model_path=os.path.join(model_dir, model_name))\n",
    "    models.append(model)\n",
    "end=time.time()\n",
    "train_time=end-start\n",
    "print(train_time)\n",
    "print('# of params: ', sum([sum(p.numel() for p in model.parameters() if p.requires_grad) for model in models]))"
   ]
  },
  {
   "cell_type": "code",
   "execution_count": 27,
   "metadata": {},
   "outputs": [],
   "source": [
    "#### one set training \n",
    "# # dummy parameter\n",
    "# batch_size=40\n",
    "# models = list()\n",
    "# L1=128\n",
    "# L2=256\n",
    "# L3=512\n",
    "# L4=1024\n",
    "# L5=2048\n",
    "# z=hidden_size\n",
    "# #[z,L1,L2,L3,L4,L5,L4,L3,L2,L1,z]\n",
    "# dt = 1  \n",
    "# n_forward=5\n",
    "# step_sizes=[16]\n",
    "# # step_sizes=[1,6,36,216,1296]\n",
    "# # training\n",
    "# max_epoch=20000\n",
    "# model_prefix='KS'\n",
    "# n_steps = data.shape[0] - 1  # number of forward steps\n",
    "# for step_size in step_sizes:\n",
    "#     m = int(np.ceil(n_steps/(step_size*n_forward)))\n",
    "#     pdata = np.zeros((m, step_size*n_forward+1, data.shape[1]))\n",
    "#     print(pdata.shape)\n",
    "#     for i in range(m):\n",
    "#         start_idx = i*step_size*n_forward\n",
    "#         end_idx = start_idx + step_size*n_forward + 1\n",
    "#         tmp = data[start_idx:end_idx, :]\n",
    "#         pdata[i, :tmp.shape[0], :] = tmp\n",
    "#     dataset = net.DataSet(pdata, pdata, data[np.newaxis, :], dt, step_size, n_forward)\n",
    "#     model_name = 'model_D{}_noise{}.pt'.format(step_size,noise)\n",
    "#     print('MODEL: '+model_prefix+'_D{}'.format(step_size))\n",
    "#     model = net.ResNet(arch=[z,L4,L4,L4,z], dt=dt, step_size=step_size)\n",
    "#     model.train_net(dataset, max_epoch=max_epoch, batch_size=batch_size, lr=lr, model_path=os.path.join(model_dir, model_name))\n",
    "#     models.append(model)\n",
    "\n",
    "# print('# of params: ', sum([sum(p.numel() for p in model.parameters() if p.requires_grad) for model in models]))"
   ]
  },
  {
   "cell_type": "code",
   "execution_count": 28,
   "metadata": {},
   "outputs": [],
   "source": [
    "#### Normalize data"
   ]
  },
  {
   "cell_type": "code",
   "execution_count": 29,
   "metadata": {},
   "outputs": [],
   "source": [
    "# from torch.nn.functional import normalize\n",
    "# data_scaled = normalize(z_train)\n",
    "# data_scaled_val = normalize(z_valid)"
   ]
  },
  {
   "cell_type": "code",
   "execution_count": 30,
   "metadata": {},
   "outputs": [],
   "source": [
    "# plt.plot(data_scaled[0,:,0].cpu().detach().numpy(),data_scaled[0,:,1].cpu().detach().numpy(),label='data_scaled')\n",
    "# # plt.plot(z_train[0,:,0].cpu().detach().numpy(),'--')\n",
    "# plt.show()"
   ]
  },
  {
   "cell_type": "code",
   "execution_count": 31,
   "metadata": {},
   "outputs": [],
   "source": [
    "# from sklearn.preprocessing import MinMaxScaler\n",
    "# scaler = MinMaxScaler()\n",
    "# scaler.fit(z_train.cpu().detach().numpy())\n",
    "# data_scaled = scaler.transform(z_train)"
   ]
  },
  {
   "cell_type": "markdown",
   "metadata": {
    "jp-MarkdownHeadingCollapsed": true,
    "tags": []
   },
   "source": [
    "#### Hits training"
   ]
  },
  {
   "cell_type": "code",
   "execution_count": 32,
   "metadata": {},
   "outputs": [],
   "source": [
    "tspan=z_train.shape[1]#### Hits training]\n",
    "np.random.seed(2)  # for reproduction\n",
    "dt = 0.01  #0.001\n",
    "train_steps = tspan  # at least equal to the largest step size\n",
    "val_steps =tspan\n",
    "test_steps = tspan  # t=20\n",
    "t = np.linspace(0, (train_steps-1)*dt, train_steps)"
   ]
  },
  {
   "cell_type": "code",
   "execution_count": 58,
   "metadata": {
    "scrolled": true
   },
   "outputs": [
    {
     "name": "stdout",
     "output_type": "stream",
     "text": [
      "Dt's: \n",
      "1\n",
      "0.01\n",
      "2\n",
      "0.02\n",
      "4\n",
      "0.04\n",
      "8\n",
      "0.08\n",
      "16\n",
      "0.16\n",
      "32\n",
      "0.32\n",
      "64\n",
      "0.64\n",
      "128\n",
      "1.28\n",
      "256\n",
      "2.56\n",
      "512\n",
      "5.12\n",
      "1024\n",
      "10.24\n"
     ]
    }
   ],
   "source": [
    "#a=np.array([1,8,64,128,256,512,1024,2048,10240,20480,40960])\n",
    "# load the data to dataset object\n",
    "dt=0.01\n",
    "datasets = list()\n",
    "step_sizes = list()\n",
    "print('Dt\\'s: ')\n",
    "#a=[10,20,30,60,100,200,400,600,800]\n",
    "for i in range(11):\n",
    "    step_size = 2**i  #exponential function\n",
    "    print(step_size)\n",
    "    print(step_size * dt)\n",
    "    step_sizes.append(step_size)\n",
    "    datasets.append(DataSet(z_train, z_valid, z_test, dt, step_size=step_size, n_forward=5))"
   ]
  },
  {
   "cell_type": "code",
   "execution_count": 54,
   "metadata": {},
   "outputs": [],
   "source": [
    "# step_sizes=step_sizes[3:]\n",
    "# step_sizes"
   ]
  },
  {
   "cell_type": "code",
   "execution_count": 24,
   "metadata": {},
   "outputs": [],
   "source": [
    "### For 16 model arch=[n,L1,L1,L1,n]"
   ]
  },
  {
   "cell_type": "code",
   "execution_count": 27,
   "metadata": {},
   "outputs": [
    {
     "data": {
      "text/plain": [
       "'../models/FHN'"
      ]
     },
     "execution_count": 27,
     "metadata": {},
     "output_type": "execute_result"
    }
   ],
   "source": [
    "model_dir"
   ]
  },
  {
   "cell_type": "code",
   "execution_count": null,
   "metadata": {},
   "outputs": [],
   "source": []
  },
  {
   "cell_type": "code",
   "execution_count": 29,
   "metadata": {},
   "outputs": [
    {
     "name": "stdout",
     "output_type": "stream",
     "text": [
      "training model_D1 ...\n",
      "epoch 1000, training loss 3.510562919473159e-06, validation loss 0.0010738716227933764\n",
      "(--> new model saved @ epoch 1000)\n",
      "epoch 2000, training loss 3.309609155621729e-06, validation loss 0.0013500157510861754\n",
      "epoch 3000, training loss 4.497781901591225e-06, validation loss 0.002472593681886792\n",
      "epoch 4000, training loss 1.5336139540522709e-06, validation loss 0.004499186761677265\n",
      "epoch 5000, training loss 6.530447080876911e-07, validation loss 0.00952882505953312\n",
      "epoch 6000, training loss 1.0102753549290355e-06, validation loss 0.010454739443957806\n",
      "epoch 7000, training loss 4.1239982238039374e-06, validation loss 6.369817856466398e-05\n",
      "(--> new model saved @ epoch 7000)\n",
      "epoch 8000, training loss 6.902208497194806e-06, validation loss 0.0002865973801817745\n",
      "epoch 9000, training loss 5.148032414581394e-06, validation loss 0.0003528624074533582\n",
      "epoch 10000, training loss 2.025097273872234e-06, validation loss 0.0004305729817133397\n",
      "epoch 11000, training loss 5.037487653680728e-07, validation loss 0.0006219993811100721\n",
      "epoch 12000, training loss 3.068616251766798e-06, validation loss 0.0007166325813159347\n",
      "epoch 13000, training loss 3.4378030022708117e-07, validation loss 0.001515585114248097\n",
      "epoch 14000, training loss 9.792795481189387e-07, validation loss 0.0004662733699660748\n",
      "epoch 15000, training loss 2.4200986104006006e-07, validation loss 0.0005891050677746534\n",
      "epoch 16000, training loss 2.030208815995138e-05, validation loss 0.0002912030613515526\n",
      "epoch 17000, training loss 7.559623895758705e-07, validation loss 0.0006563011556863785\n",
      "epoch 18000, training loss 5.46654462141305e-07, validation loss 0.0007945182151161134\n",
      "epoch 19000, training loss 5.449513082567137e-06, validation loss 0.0004392278497107327\n",
      "epoch 20000, training loss 1.9237945991790184e-07, validation loss 0.0005268437671475112\n",
      "training model_D2 ...\n",
      "epoch 1000, training loss 2.586210030131042e-06, validation loss 0.0005897348164580762\n",
      "(--> new model saved @ epoch 1000)\n",
      "epoch 2000, training loss 2.0803408915526234e-05, validation loss 0.0013429070822894573\n",
      "epoch 3000, training loss 1.4998921642472851e-06, validation loss 0.0018556237919256091\n",
      "epoch 4000, training loss 1.3487770047504455e-06, validation loss 0.002696631010621786\n",
      "epoch 5000, training loss 0.001486271503381431, validation loss 0.004532843362540007\n",
      "epoch 6000, training loss 7.588304470118601e-06, validation loss 0.00022651486506219953\n",
      "(--> new model saved @ epoch 6000)\n",
      "epoch 7000, training loss 5.401853741204832e-06, validation loss 0.0002472134947311133\n",
      "epoch 8000, training loss 5.442531801236328e-06, validation loss 0.0006546282093040645\n",
      "epoch 9000, training loss 1.5731086477899225e-06, validation loss 0.0008003853145055473\n",
      "epoch 10000, training loss 7.529168328801461e-07, validation loss 0.0016616693465039134\n",
      "epoch 11000, training loss 1.0520119531065575e-06, validation loss 0.0007035065209493041\n",
      "epoch 12000, training loss 7.513319246754691e-07, validation loss 0.0010866050142794847\n",
      "epoch 13000, training loss 1.1896629075636156e-05, validation loss 0.0032218415290117264\n",
      "epoch 14000, training loss 1.0625371032801922e-05, validation loss 0.004324631299823523\n",
      "epoch 15000, training loss 9.692234925751109e-08, validation loss 0.007973003201186657\n",
      "epoch 16000, training loss 1.3373507499636617e-05, validation loss 0.003625617129728198\n",
      "epoch 17000, training loss 1.2284081094549038e-05, validation loss 0.0028362488374114037\n",
      "epoch 18000, training loss 9.780364052858204e-06, validation loss 0.002424712525680661\n",
      "epoch 19000, training loss 7.353510682150954e-06, validation loss 0.0018123943591490388\n",
      "epoch 20000, training loss 1.0447572094562929e-05, validation loss 0.0028914865106344223\n",
      "training model_D4 ...\n",
      "epoch 1000, training loss 0.00010701839346438646, validation loss 0.008219374343752861\n",
      "(--> new model saved @ epoch 1000)\n",
      "epoch 2000, training loss 2.8294543881202117e-06, validation loss 0.005730873439460993\n",
      "(--> new model saved @ epoch 2000)\n",
      "epoch 3000, training loss 7.24400820217852e-07, validation loss 0.00686693424358964\n",
      "epoch 4000, training loss 1.300593157793628e-05, validation loss 0.007733960635960102\n",
      "epoch 5000, training loss 2.639209697008482e-06, validation loss 0.008982927538454533\n",
      "epoch 6000, training loss 0.00011203716712770984, validation loss 0.07165887951850891\n",
      "epoch 7000, training loss 2.2728709154762328e-05, validation loss 0.05862803012132645\n",
      "epoch 8000, training loss 6.8742497205676045e-06, validation loss 0.06415486335754395\n",
      "epoch 9000, training loss 0.00022518765763379633, validation loss 0.0036497581750154495\n",
      "(--> new model saved @ epoch 9000)\n",
      "epoch 10000, training loss 1.1790574717451818e-05, validation loss 0.0033039699774235487\n",
      "(--> new model saved @ epoch 10000)\n",
      "epoch 11000, training loss 2.4222197225753916e-06, validation loss 0.0029101159889250994\n",
      "(--> new model saved @ epoch 11000)\n",
      "epoch 12000, training loss 2.981999500661914e-07, validation loss 0.0031914920546114445\n",
      "epoch 13000, training loss 2.1871210265089758e-06, validation loss 0.0029857370536774397\n",
      "epoch 14000, training loss 1.5804816939635202e-06, validation loss 0.005386808421462774\n",
      "epoch 15000, training loss 2.788030997180613e-07, validation loss 0.0046370066702365875\n",
      "epoch 16000, training loss 8.034111669985577e-05, validation loss 0.0007291712099686265\n",
      "(--> new model saved @ epoch 16000)\n",
      "epoch 17000, training loss 3.8453012507488893e-07, validation loss 0.0007179908570833504\n",
      "(--> new model saved @ epoch 17000)\n",
      "epoch 18000, training loss 2.964704435726162e-06, validation loss 0.000994621659629047\n",
      "epoch 19000, training loss 3.593701336512822e-08, validation loss 0.0010824508499354124\n",
      "epoch 20000, training loss 0.0001947994314832613, validation loss 0.0014471152098849416\n",
      "training model_D8 ...\n",
      "epoch 1000, training loss 7.72681160015054e-05, validation loss 0.00842247810214758\n",
      "(--> new model saved @ epoch 1000)\n",
      "epoch 2000, training loss 6.636695161432726e-06, validation loss 0.009066094644367695\n",
      "epoch 3000, training loss 2.2949601770960726e-05, validation loss 0.007030623499304056\n",
      "(--> new model saved @ epoch 3000)\n",
      "epoch 4000, training loss 2.584899618796044e-07, validation loss 0.00801121350377798\n",
      "epoch 5000, training loss 0.00039919541450217366, validation loss 0.005864478647708893\n",
      "(--> new model saved @ epoch 5000)\n",
      "epoch 6000, training loss 7.488615096917783e-07, validation loss 0.007641155272722244\n",
      "epoch 7000, training loss 1.6525257251487346e-06, validation loss 0.007295630872249603\n",
      "epoch 8000, training loss 0.00020748672250192612, validation loss 0.01001698523759842\n",
      "epoch 9000, training loss 1.5562413580028078e-07, validation loss 0.010949748568236828\n",
      "epoch 10000, training loss 1.8409204130875878e-05, validation loss 0.009379646740853786\n",
      "epoch 11000, training loss 1.2663588222494582e-06, validation loss 0.00995674915611744\n",
      "epoch 12000, training loss 1.778382028305714e-07, validation loss 0.009687270037829876\n",
      "epoch 13000, training loss 1.0138887063249058e-07, validation loss 0.010100762359797955\n",
      "epoch 14000, training loss 6.922685770405224e-06, validation loss 0.009171531535685062\n",
      "epoch 15000, training loss 1.5026687378849601e-06, validation loss 0.011073480360209942\n",
      "epoch 16000, training loss 1.726395559842331e-08, validation loss 0.011092494241893291\n",
      "epoch 17000, training loss 2.0282280299710465e-09, validation loss 0.010705984197556973\n",
      "epoch 18000, training loss 6.192623004608322e-06, validation loss 0.011597038246691227\n",
      "epoch 19000, training loss 4.8359721404267475e-05, validation loss 0.009657296352088451\n",
      "epoch 20000, training loss 5.744669238083588e-07, validation loss 0.008683006279170513\n",
      "training model_D16 ...\n",
      "epoch 1000, training loss 0.021488098427653313, validation loss 0.04132983461022377\n",
      "(--> new model saved @ epoch 1000)\n",
      "epoch 2000, training loss 0.0026735831052064896, validation loss 0.04304260015487671\n",
      "epoch 3000, training loss 0.00039158976869657636, validation loss 0.2040390968322754\n",
      "epoch 4000, training loss 0.0005439055967144668, validation loss 0.015503994189202785\n",
      "(--> new model saved @ epoch 4000)\n",
      "epoch 5000, training loss 0.00014333425497170538, validation loss 0.008857931941747665\n",
      "(--> new model saved @ epoch 5000)\n",
      "epoch 6000, training loss 0.07085993140935898, validation loss 0.16059689223766327\n",
      "epoch 7000, training loss 9.395082452101633e-05, validation loss 0.20541749894618988\n",
      "epoch 8000, training loss 0.0015943882754072547, validation loss 0.13470442593097687\n",
      "epoch 9000, training loss 7.063164230203256e-05, validation loss 0.14705531299114227\n",
      "epoch 10000, training loss 0.0007468008552677929, validation loss 0.13133589923381805\n",
      "epoch 11000, training loss 8.052273915382102e-05, validation loss 0.10565274208784103\n",
      "epoch 12000, training loss 0.005954142194241285, validation loss 0.04371752217411995\n",
      "epoch 13000, training loss 0.0006371199269779027, validation loss 0.14164672791957855\n",
      "epoch 14000, training loss 8.295498992083594e-05, validation loss 0.1659144014120102\n",
      "epoch 15000, training loss 6.321636465145275e-05, validation loss 0.14169436693191528\n",
      "epoch 16000, training loss 7.085987454047427e-05, validation loss 0.029698479920625687\n",
      "epoch 17000, training loss 4.384450949146412e-05, validation loss 0.03752421587705612\n",
      "epoch 18000, training loss 0.014716014266014099, validation loss 0.07298190146684647\n",
      "epoch 19000, training loss 0.0028328627813607454, validation loss 0.2058098167181015\n",
      "epoch 20000, training loss 0.0003656799381133169, validation loss 0.24843735992908478\n",
      "training model_D32 ...\n",
      "epoch 1000, training loss 2.8966245651245117, validation loss 3.8117072582244873\n",
      "(--> new model saved @ epoch 1000)\n",
      "epoch 2000, training loss 1.3545799255371094, validation loss 3.6401355266571045\n",
      "(--> new model saved @ epoch 2000)\n",
      "epoch 3000, training loss 0.616946816444397, validation loss 1.473751187324524\n",
      "(--> new model saved @ epoch 3000)\n",
      "epoch 4000, training loss 0.8205070495605469, validation loss 1.0890544652938843\n",
      "(--> new model saved @ epoch 4000)\n",
      "epoch 5000, training loss 1.0399746894836426, validation loss 1.6847867965698242\n",
      "epoch 6000, training loss 0.6831598281860352, validation loss 6.244260311126709\n",
      "epoch 7000, training loss 0.3088702857494354, validation loss 0.6355617642402649\n",
      "(--> new model saved @ epoch 7000)\n",
      "epoch 8000, training loss 0.0527140311896801, validation loss 0.20347920060157776\n",
      "(--> new model saved @ epoch 8000)\n",
      "epoch 9000, training loss 0.0061255251057446, validation loss 0.08000091463327408\n",
      "(--> new model saved @ epoch 9000)\n",
      "epoch 10000, training loss 0.0009957136353477836, validation loss 0.06674832850694656\n",
      "(--> new model saved @ epoch 10000)\n",
      "epoch 11000, training loss 0.0005972605431452394, validation loss 0.0437728688120842\n",
      "(--> new model saved @ epoch 11000)\n",
      "epoch 12000, training loss 0.0007250232738442719, validation loss 0.2720889747142792\n",
      "epoch 13000, training loss 0.00014431432646233588, validation loss 0.2612551152706146\n",
      "epoch 14000, training loss 5.7576147810323164e-05, validation loss 0.2733514606952667\n",
      "epoch 15000, training loss 0.07316427677869797, validation loss 0.15994776785373688\n",
      "epoch 16000, training loss 0.002575920196250081, validation loss 0.0903448686003685\n",
      "epoch 17000, training loss 0.0012751694303005934, validation loss 0.1555757373571396\n",
      "epoch 18000, training loss 0.0007610045722685754, validation loss 0.016107158735394478\n",
      "(--> new model saved @ epoch 18000)\n",
      "epoch 19000, training loss 7.390660175587982e-05, validation loss 0.02191658690571785\n",
      "epoch 20000, training loss 7.605934661114588e-05, validation loss 0.04111431911587715\n",
      "training model_D64 ...\n",
      "epoch 1000, training loss 2.5330848693847656, validation loss 3.5119717121124268\n",
      "(--> new model saved @ epoch 1000)\n",
      "epoch 2000, training loss 0.002379672136157751, validation loss 0.2555180490016937\n",
      "(--> new model saved @ epoch 2000)\n",
      "epoch 3000, training loss 0.06375230848789215, validation loss 0.7325347065925598\n",
      "epoch 4000, training loss 0.12850235402584076, validation loss 0.9269396662712097\n",
      "epoch 5000, training loss 0.06119626760482788, validation loss 0.8742561340332031\n",
      "epoch 6000, training loss 0.0015987831866368651, validation loss 0.020246997475624084\n",
      "(--> new model saved @ epoch 6000)\n",
      "epoch 7000, training loss 1.7599518299102783, validation loss 5.771873474121094\n",
      "epoch 8000, training loss 0.7598857283592224, validation loss 0.775113046169281\n",
      "epoch 9000, training loss 3.465668201446533, validation loss 3.5576534271240234\n",
      "epoch 10000, training loss 2.2025089263916016, validation loss 3.452115774154663\n",
      "epoch 11000, training loss 0.68179851770401, validation loss 0.2157031148672104\n",
      "epoch 12000, training loss 2.3864123821258545, validation loss 3.150156021118164\n",
      "epoch 13000, training loss 1.2869594097137451, validation loss 3.5187363624572754\n",
      "epoch 14000, training loss 2.1467206478118896, validation loss 3.465150833129883\n",
      "epoch 15000, training loss 2.2233660221099854, validation loss 3.427398681640625\n",
      "epoch 16000, training loss 0.29682332277297974, validation loss 0.21745648980140686\n",
      "epoch 17000, training loss 0.042230959981679916, validation loss 0.5409614443778992\n",
      "epoch 18000, training loss 1.6165932416915894, validation loss 6.86040735244751\n",
      "epoch 19000, training loss 0.28494971990585327, validation loss 0.6853112578392029\n",
      "epoch 20000, training loss 0.35110053420066833, validation loss 1.2598360776901245\n",
      "training model_D128 ...\n",
      "epoch 1000, training loss 3.7098538875579834, validation loss 3.2798728942871094\n",
      "(--> new model saved @ epoch 1000)\n",
      "epoch 2000, training loss 1.1683348417282104, validation loss 0.9860258102416992\n",
      "(--> new model saved @ epoch 2000)\n",
      "epoch 3000, training loss 2.635537624359131, validation loss 2.5310893058776855\n",
      "epoch 4000, training loss 0.9395295977592468, validation loss 1.1757665872573853\n",
      "epoch 5000, training loss 2.0428850650787354, validation loss 2.2599546909332275\n",
      "epoch 6000, training loss 0.8772779703140259, validation loss 7.562699794769287\n",
      "epoch 7000, training loss 0.6055994033813477, validation loss 0.4063970744609833\n",
      "(--> new model saved @ epoch 7000)\n",
      "epoch 8000, training loss 0.3632602393627167, validation loss 0.4326362609863281\n",
      "epoch 9000, training loss 0.03266366198658943, validation loss 0.46300530433654785\n",
      "epoch 10000, training loss 0.04195752367377281, validation loss 0.09929115325212479\n",
      "(--> new model saved @ epoch 10000)\n",
      "epoch 11000, training loss 4.677555084228516, validation loss 5.0403852462768555\n",
      "epoch 12000, training loss 0.06387663632631302, validation loss 0.40309572219848633\n",
      "epoch 13000, training loss 0.9127918481826782, validation loss 4.4851508140563965\n",
      "epoch 14000, training loss 0.06393902748823166, validation loss 5.036208629608154\n",
      "epoch 15000, training loss 0.07389207184314728, validation loss 9.675567626953125\n",
      "epoch 16000, training loss 0.07070936262607574, validation loss 1.9948972463607788\n",
      "epoch 17000, training loss 0.008377092890441418, validation loss 0.5903136730194092\n",
      "epoch 18000, training loss 0.019706381484866142, validation loss 0.3229040205478668\n",
      "epoch 19000, training loss 0.00027416241937316954, validation loss 0.2335491180419922\n",
      "epoch 20000, training loss 0.0001395603030687198, validation loss 0.16907663643360138\n",
      "training model_D256 ...\n",
      "epoch 1000, training loss 1.2260595560073853, validation loss 7.165957927703857\n",
      "(--> new model saved @ epoch 1000)\n",
      "epoch 2000, training loss 0.03203896805644035, validation loss 3.269218921661377\n",
      "(--> new model saved @ epoch 2000)\n",
      "epoch 3000, training loss 0.004747914616018534, validation loss 0.053226448595523834\n",
      "(--> new model saved @ epoch 3000)\n",
      "epoch 4000, training loss 2.433955430984497, validation loss 2.3425729274749756\n",
      "epoch 5000, training loss 2.9206578731536865, validation loss 2.6991443634033203\n",
      "epoch 6000, training loss 2.399007558822632, validation loss 2.5485739707946777\n",
      "epoch 7000, training loss 1.2408539056777954, validation loss 8.061806678771973\n",
      "epoch 8000, training loss 2.0018258094787598, validation loss 2.6742546558380127\n",
      "epoch 9000, training loss 2.058011293411255, validation loss 2.655831813812256\n",
      "epoch 10000, training loss 3.5321195125579834, validation loss 3.4368233680725098\n",
      "epoch 11000, training loss 1.2215927839279175, validation loss 1.4919334650039673\n",
      "epoch 12000, training loss 0.31530681252479553, validation loss 4.216691493988037\n",
      "epoch 13000, training loss 2.9478261470794678, validation loss 2.843299150466919\n",
      "epoch 14000, training loss 1.5117685794830322, validation loss 3.910686492919922\n",
      "epoch 15000, training loss 1.3254890441894531, validation loss 2.2321431636810303\n",
      "epoch 16000, training loss 0.33969172835350037, validation loss 0.8892484903335571\n",
      "epoch 17000, training loss 2.6265480518341064, validation loss 2.7448925971984863\n",
      "epoch 18000, training loss 2.882833480834961, validation loss 2.5765280723571777\n",
      "epoch 19000, training loss 3.594872236251831, validation loss 1.476746678352356\n",
      "epoch 20000, training loss 1.1349632740020752, validation loss 1.600930094718933\n",
      "training model_D512 ...\n",
      "epoch 1000, training loss 1.6500428915023804, validation loss 2.137728214263916\n",
      "(--> new model saved @ epoch 1000)\n",
      "epoch 2000, training loss 0.019330808892846107, validation loss 0.03458482399582863\n",
      "(--> new model saved @ epoch 2000)\n",
      "epoch 3000, training loss 0.0110166622325778, validation loss 0.016998369246721268\n",
      "(--> new model saved @ epoch 3000)\n",
      "epoch 4000, training loss 0.007864914834499359, validation loss 0.012648048810660839\n",
      "(--> new model saved @ epoch 4000)\n",
      "epoch 5000, training loss 0.005721505265682936, validation loss 0.019459061324596405\n",
      "epoch 6000, training loss 0.017156625166535378, validation loss 0.03818535432219505\n",
      "epoch 7000, training loss 2.5305702686309814, validation loss 3.111417055130005\n",
      "epoch 8000, training loss 2.884218692779541, validation loss 3.3731579780578613\n",
      "epoch 9000, training loss 0.443452924489975, validation loss 0.9977151155471802\n",
      "epoch 10000, training loss 0.010792269371449947, validation loss 0.03898568078875542\n",
      "epoch 11000, training loss 0.006668268237262964, validation loss 0.011807816103100777\n",
      "(--> new model saved @ epoch 11000)\n",
      "epoch 12000, training loss 0.0063938782550394535, validation loss 0.021503055468201637\n",
      "epoch 13000, training loss 0.00028748661861754954, validation loss 0.01125680934637785\n",
      "(--> new model saved @ epoch 13000)\n",
      "epoch 14000, training loss 0.0002204209886258468, validation loss 0.009210324846208096\n",
      "(--> new model saved @ epoch 14000)\n",
      "epoch 15000, training loss 8.124068699544296e-05, validation loss 0.010664911940693855\n",
      "epoch 16000, training loss 3.6721903597936034e-05, validation loss 0.00978508498519659\n",
      "epoch 17000, training loss 2.2474141120910645, validation loss 3.487457752227783\n",
      "epoch 18000, training loss 0.009600084275007248, validation loss 0.04167510196566582\n",
      "epoch 19000, training loss 0.9591123461723328, validation loss 2.612163782119751\n",
      "epoch 20000, training loss 0.38553181290626526, validation loss 1.313403844833374\n",
      "training model_D1024 ...\n",
      "epoch 1000, training loss 0.006522059440612793, validation loss 0.2497366964817047\n",
      "(--> new model saved @ epoch 1000)\n",
      "epoch 2000, training loss 0.0007148091681301594, validation loss 0.21201570332050323\n",
      "(--> new model saved @ epoch 2000)\n",
      "epoch 3000, training loss 0.00018714184989221394, validation loss 0.04220488294959068\n",
      "(--> new model saved @ epoch 3000)\n",
      "epoch 4000, training loss 5.95545643591322e-05, validation loss 0.039875101298093796\n",
      "(--> new model saved @ epoch 4000)\n",
      "epoch 5000, training loss 1.0018672583100852e-05, validation loss 0.041260432451963425\n",
      "epoch 6000, training loss 0.004135892726480961, validation loss 0.05371292307972908\n",
      "epoch 7000, training loss 0.0010366974165663123, validation loss 0.044442880898714066\n",
      "epoch 8000, training loss 0.0010714810341596603, validation loss 0.18849681317806244\n",
      "epoch 9000, training loss 0.0005073953070677817, validation loss 0.07288103550672531\n",
      "epoch 10000, training loss 0.00041145386057905853, validation loss 0.4742484986782074\n",
      "epoch 11000, training loss 0.00022436851577367634, validation loss 0.39538753032684326\n",
      "epoch 12000, training loss 0.00010686655150493607, validation loss 0.18519258499145508\n",
      "epoch 13000, training loss 9.687484271125868e-05, validation loss 0.054029013961553574\n",
      "epoch 14000, training loss 3.436569750192575e-05, validation loss 0.046256065368652344\n",
      "epoch 15000, training loss 0.05050837993621826, validation loss 0.09722345322370529\n",
      "epoch 16000, training loss 0.000662952137645334, validation loss 0.03772936388850212\n",
      "(--> new model saved @ epoch 16000)\n",
      "epoch 17000, training loss 0.00023589155171066523, validation loss 0.05034182220697403\n",
      "epoch 18000, training loss 5.248827437753789e-05, validation loss 0.05831022188067436\n",
      "epoch 19000, training loss 9.683943972049747e-06, validation loss 0.04802044853568077\n",
      "epoch 20000, training loss 6.0067582126066554e-06, validation loss 0.04852132499217987\n",
      "offline time elaspsed is 1472.5274147987366\n",
      "models trained successfully!\n"
     ]
    }
   ],
   "source": [
    "# ### FOR FHN DATA\n",
    "models = list()\n",
    "max_epoch=20000\n",
    "L1=128\n",
    "L2=256\n",
    "L3=512\n",
    "L4=1024\n",
    "L5=2048\n",
    "z=hidden_size\n",
    "# archs=[[z,L4,L4,L4,z],[z,L5,L5,L5,z],[z,L5,L5,L5,L5,L5,L5,L5,z],[z,L5,L5,L5,z],[z,L4,L4,L4,L4,L4,L4,L4,z],[z,L4,L4,L4,L4,L4,z],[z,L3,L3,L3,L3,L3,z],\n",
    "#        [z,L5,L5,L5,L5,L5,L5,L5,z],[z,L5,L5,L5,L5,z],[z,L3,L3,L3,L3,z],[z,L2,L2,L2,L2,L2,z]]\n",
    "start_time1 = time.time()\n",
    "for (step_size, dataset) in zip(step_sizes, datasets):\n",
    "    # set up the network\n",
    "    model_name = 'modelFHN_D{}.pt'.format(step_size)\n",
    "    device = 'cuda' if torch.cuda.is_available() else 'cpu'\n",
    "    modelresnet = net.ResNet(arch=[z,L1,L1,L1,L1,L1,L1,z], dt=dt, step_size=step_size)\n",
    "    # training\n",
    "    print('training model_D{} ...'.format(step_size))\n",
    "    modelresnet.train_net(dataset, max_epoch=max_epoch, batch_size=n_train, lr=1e-3, model_path=os.path.join(model_dir, model_name))\n",
    "    models.append(modelresnet)\n",
    "end_time1 = time.time()\n",
    "offline_time=end_time1-start_time1\n",
    "print('offline time elaspsed is',offline_time)\n",
    "print('models trained successfully!')"
   ]
  },
  {
   "cell_type": "code",
   "execution_count": 48,
   "metadata": {},
   "outputs": [
    {
     "name": "stdout",
     "output_type": "stream",
     "text": [
      "loading model_D1.pt\n",
      "loading model_D2.pt\n",
      "loading model_D4.pt\n",
      "loading model_D8.pt\n",
      "loading model_D16.pt\n",
      "loading model_D32.pt\n",
      "loading model_D64.pt\n",
      "loading model_D128.pt\n",
      "loading model_D256.pt\n",
      "loading model_D512.pt\n",
      "loading model_D1024.pt\n"
     ]
    }
   ],
   "source": [
    "## load RN models\n",
    "# noise=0.0\n",
    "# models = list()\n",
    "# for step_size in step_sizes:\n",
    "#     print('loading model_D{}.pt'.format(step_size))\n",
    "#     models.append(torch.load(os.path.join(model_dir, 'modelnew_D{}_noise{}.pt'.format(step_size,noise))))\n",
    "# model_name = 'model_D{}_noise{}.pt'.format(step_size,noise)\n",
    "# noise=0.0\n",
    "# models = list()\n",
    "# for step_size in step_sizes:\n",
    "#     print('loading model_D{}_h{}.pt'.format(step_size,hidden_size))\n",
    "#     models.append(torch.load(os.path.join(model_dir, 'model_D{}_noise{}.pt'.format(step_size,noise)))) ### Best result so far\n",
    "noise=0.0\n",
    "models = list()\n",
    "for step_size in step_sizes:\n",
    "    print('loading model_D{}.pt'.format(step_size,))\n",
    "    models.append(torch.load(os.path.join(model_dir, 'modelFHN_D{}.pt'.format(step_size)))) "
   ]
  },
  {
   "cell_type": "code",
   "execution_count": 18,
   "metadata": {},
   "outputs": [],
   "source": [
    "# noise=0.0\n",
    "# models = list()\n",
    "# for step_size in step_sizes:\n",
    "#     print('loading model_D{}_h{}.pt'.format(step_size,hidden_size))\n",
    "#     models.append(torch.load(os.path.join(model_dir, 'model_D{}_h{}_noise{}.pt'.format(step_size, hidden_size,noise))))"
   ]
  },
  {
   "cell_type": "code",
   "execution_count": null,
   "metadata": {},
   "outputs": [],
   "source": [
    "print('# of params of RNN models: ', sum([sum(p.numel() for p in model.parameters() if p.requires_grad) for model in models]))"
   ]
  },
  {
   "cell_type": "code",
   "execution_count": 25,
   "metadata": {},
   "outputs": [],
   "source": [
    "# import pickle\n",
    "# with open(\"test\", \"rb\") as fp:\n",
    "#     val_matrices = pickle.load(fp)"
   ]
  },
  {
   "cell_type": "markdown",
   "metadata": {
    "jp-MarkdownHeadingCollapsed": true,
    "tags": []
   },
   "source": [
    "#### LSTM TRAINING"
   ]
  },
  {
   "cell_type": "code",
   "execution_count": 16,
   "metadata": {},
   "outputs": [
    {
     "name": "stdout",
     "output_type": "stream",
     "text": [
      "# of params:  730152\n"
     ]
    }
   ],
   "source": [
    "data=z_train\n",
    "data.shape[-1]\n",
    "lstmmodel = lstmrnn.LSTMWrapper(data.shape[-1], 425).to(device) ### 425 for FHN,\n",
    "print('# of params: ', sum(p.numel() for p in lstmmodel.parameters() if p.requires_grad))"
   ]
  },
  {
   "cell_type": "code",
   "execution_count": 17,
   "metadata": {},
   "outputs": [],
   "source": [
    "#print('# of params: ', sum(p.numel() for p in lstmmodel.parameters() if p.requires_grad))"
   ]
  },
  {
   "cell_type": "code",
   "execution_count": 18,
   "metadata": {},
   "outputs": [
    {
     "data": {
      "text/plain": [
       "torch.Size([4, 5121, 2])"
      ]
     },
     "execution_count": 18,
     "metadata": {},
     "output_type": "execute_result"
    }
   ],
   "source": [
    "z_train.shape"
   ]
  },
  {
   "cell_type": "code",
   "execution_count": null,
   "metadata": {},
   "outputs": [
    {
     "name": "stdout",
     "output_type": "stream",
     "text": [
      "epoch 1000, training loss 0.0014195143012329936\n",
      "(--> new model saved @ epoch 1000)\n",
      "epoch 2000, training loss 0.0009523196495138109\n",
      "(--> new model saved @ epoch 2000)\n",
      "epoch 3000, training loss 0.00062045908998698\n",
      "(--> new model saved @ epoch 3000)\n",
      "epoch 4000, training loss 0.0004012904246337712\n",
      "(--> new model saved @ epoch 4000)\n",
      "epoch 5000, training loss 0.00023397379845846444\n",
      "(--> new model saved @ epoch 5000)\n",
      "epoch 6000, training loss 0.00020922468684148043\n",
      "(--> new model saved @ epoch 6000)\n",
      "epoch 7000, training loss 4.433157664607279e-05\n",
      "(--> new model saved @ epoch 7000)\n",
      "epoch 8000, training loss 2.2439289750764146e-05\n",
      "(--> new model saved @ epoch 8000)\n",
      "epoch 9000, training loss 2.3523200070485473e-05\n",
      "epoch 10000, training loss 1.3013115676585585e-05\n",
      "(--> new model saved @ epoch 10000)\n",
      "epoch 11000, training loss 5.74259101995267e-05\n",
      "epoch 12000, training loss 1.184995380754117e-05\n",
      "(--> new model saved @ epoch 12000)\n",
      "epoch 13000, training loss 1.0122110325028189e-05\n",
      "(--> new model saved @ epoch 13000)\n",
      "epoch 14000, training loss 3.628095510066487e-05\n",
      "epoch 15000, training loss 2.0180701540084556e-05\n"
     ]
    }
   ],
   "source": [
    "# choose the hidden size so that # of parameters match \n",
    "# data=z_train\n",
    "# lstmmodel = lstmrnn.LSTMWrapper(data.shape[-1], 10).to(device)\n",
    "# print('# of params: ', sum([sum(p.numel() for p in model.parameters() if p.requires_grad) for model in models]))\n",
    "\n",
    "# training\n",
    "criterion = torch.nn.MSELoss()\n",
    "optimizer = torch.optim.Adam(lstmmodel.parameters(), lr=lr)\n",
    "max_epoch=20000\n",
    "epoch = 0\n",
    "best_loss = 1e+5\n",
    "import time\n",
    "lstm_start=time.time()\n",
    "while epoch < max_epoch:\n",
    "    epoch += 1\n",
    "    preds = lstmmodel(torch.tensor(data[:, :-1, :]).float()).to(device)\n",
    "    loss = criterion(preds, torch.tensor(data[:, 1:, :]).float())\n",
    "    if best_loss <= 1e-10:\n",
    "        print('--> model has reached an accuracy of 1e-10! Finished training!')\n",
    "        break\n",
    "    optimizer.zero_grad()\n",
    "    loss.backward()\n",
    "    optimizer.step()\n",
    "    if epoch % 1000 == 0:\n",
    "        print('epoch {}, training loss {}'.format(epoch, loss.item()))\n",
    "        if loss.item() < best_loss:\n",
    "            best_loss = loss.item()\n",
    "            print('(--> new model saved @ epoch {})'.format(epoch))\n",
    "            torch.save(lstmmodel, os.path.join(model_dir,'lstm_model.pt'))\n",
    "lstm_end=time.time()\n",
    "lstm_traintime=lstm_end-lstm_start\n",
    "print(lstm_traintime)"
   ]
  },
  {
   "cell_type": "code",
   "execution_count": 22,
   "metadata": {},
   "outputs": [
    {
     "name": "stdout",
     "output_type": "stream",
     "text": [
      "3136.293374300003\n"
     ]
    }
   ],
   "source": [
    "print(lstm_traintime)"
   ]
  },
  {
   "cell_type": "code",
   "execution_count": 13,
   "metadata": {},
   "outputs": [],
   "source": [
    "# z_test1=z_test[:,:T1,:]\n",
    "# lstmmodel = torch.load(os.path.join(model_dir,'lstm_model.pt'))\n",
    "# y_init = torch.tensor(z_test1[:, [0], :]).float()\n",
    "# y_lstm = lstmmodel(y_init, t=z_test1.shape[1])\n",
    "\n",
    "#y_preds = torch.cat([y_init, y_preds], dim=1).squeeze().detach().numpy()\n",
    "# if normalize:\n",
    "#     y_preds = y_preds * ranges + mean_values\n",
    "#np.save(os.path.join(path_to_result,'lstm_model_pred.npy', y_lstm))"
   ]
  },
  {
   "cell_type": "code",
   "execution_count": 21,
   "metadata": {},
   "outputs": [],
   "source": [
    "aa=0"
   ]
  },
  {
   "cell_type": "code",
   "execution_count": null,
   "metadata": {},
   "outputs": [],
   "source": []
  },
  {
   "cell_type": "code",
   "execution_count": null,
   "metadata": {},
   "outputs": [],
   "source": []
  },
  {
   "cell_type": "markdown",
   "metadata": {
    "jp-MarkdownHeadingCollapsed": true,
    "tags": []
   },
   "source": [
    "#### reservoir computing"
   ]
  },
  {
   "cell_type": "code",
   "execution_count": 46,
   "metadata": {},
   "outputs": [
    {
     "data": {
      "text/plain": [
       "torch.Size([8, 5121])"
      ]
     },
     "execution_count": 46,
     "metadata": {},
     "output_type": "execute_result"
    }
   ],
   "source": [
    "z_trainRC=z_train[:1,:,:]\n",
    "data=z_trainRC.reshape(z_trainRC.shape[0]*z_trainRC.shape[1],z_trainRC.shape[2])\n",
    "data=data.T\n",
    "data.shape"
   ]
  },
  {
   "cell_type": "code",
   "execution_count": 47,
   "metadata": {},
   "outputs": [],
   "source": [
    "# no. of parameters=1548762 FHN,KS= 2346888"
   ]
  },
  {
   "cell_type": "code",
   "execution_count": 51,
   "metadata": {},
   "outputs": [
    {
     "name": "stdout",
     "output_type": "stream",
     "text": [
      "# of params:  2304450\n"
     ]
    }
   ],
   "source": [
    "# choose the hidden size so that # of parameters match \n",
    "import esn\n",
    "RCmodel = esn.ESN(data.shape[1], 450).to(device) ### 300_fhn,\n",
    "RC_pred = RCmodel(torch.tensor(data[:-1, :]).float()).to(device)\n",
    "truth = torch.tensor(data[1:, :]).float()\n",
    "W_out = RC_pred.pinverse() @ truth\n",
    "print('# of params: ', W_out.shape[0]*W_out.shape[1])"
   ]
  },
  {
   "cell_type": "code",
   "execution_count": 53,
   "metadata": {},
   "outputs": [],
   "source": [
    "# z_testRC.shape"
   ]
  },
  {
   "cell_type": "code",
   "execution_count": 54,
   "metadata": {},
   "outputs": [],
   "source": [
    "idx=0\n",
    "z_testRC=z_test[idx,:T1+1,:].T\n",
    "RC_preds = torch.zeros(z_testRC.shape)\n",
    "RC_preds[0, :] = torch.tensor(z_testRC[0, :]).float()\n",
    "h_pred = RCmodel.f(RCmodel.W_in @torch.tensor(z_testRC[0, :]).float())\n",
    "RC_pred = torch.matmul(h_pred, W_out)\n",
    "RC_preds[1, :] = RC_pred\n",
    "for t in range(2, z_testRC.shape[0]):\n",
    "    h_pred = RCmodel.f(RCmodel.W_in @ RC_pred + RCmodel.W_hat @ h_pred)\n",
    "    RC_pred = torch.matmul(h_pred, W_out)\n",
    "    RC_preds[t, :] = RC_pred\n",
    "    \n",
    "RC_preds = RC_preds.detach().numpy()\n",
    "RC_preds=RC_preds.T\n",
    "# if normalize:\n",
    "#     y_preds = y_preds * ranges + mean_values\n",
    "torch.save(RC_preds, path_to_result + \"/reservoir_pred.pt\")\n",
    "# np.save(os.path.join(path_to_result, 'reservoir_pred.npy', RC_preds))"
   ]
  },
  {
   "cell_type": "code",
   "execution_count": null,
   "metadata": {},
   "outputs": [],
   "source": [
    "# z_testRC.shape[0]"
   ]
  },
  {
   "cell_type": "code",
   "execution_count": null,
   "metadata": {},
   "outputs": [],
   "source": []
  },
  {
   "cell_type": "code",
   "execution_count": null,
   "metadata": {},
   "outputs": [],
   "source": []
  },
  {
   "cell_type": "markdown",
   "metadata": {
    "jp-MarkdownHeadingCollapsed": true,
    "tags": []
   },
   "source": [
    "### SINDY training"
   ]
  },
  {
   "cell_type": "code",
   "execution_count": 56,
   "metadata": {},
   "outputs": [],
   "source": [
    "# pip install pysindy"
   ]
  },
  {
   "cell_type": "code",
   "execution_count": 57,
   "metadata": {},
   "outputs": [],
   "source": [
    "import pysindy as ps"
   ]
  },
  {
   "cell_type": "code",
   "execution_count": 58,
   "metadata": {},
   "outputs": [
    {
     "ename": "KeyboardInterrupt",
     "evalue": "",
     "output_type": "error",
     "traceback": [
      "\u001b[0;31m---------------------------------------------------------------------------\u001b[0m",
      "\u001b[0;31mKeyboardInterrupt\u001b[0m                         Traceback (most recent call last)",
      "Cell \u001b[0;32mIn [58], line 7\u001b[0m\n\u001b[1;32m      5\u001b[0m z_trainS\u001b[38;5;241m=\u001b[39mz_trainS\u001b[38;5;241m.\u001b[39mreshape(z_trainS\u001b[38;5;241m.\u001b[39mshape[\u001b[38;5;241m0\u001b[39m]\u001b[38;5;241m*\u001b[39mz_trainS\u001b[38;5;241m.\u001b[39mshape[\u001b[38;5;241m1\u001b[39m],z_trainS\u001b[38;5;241m.\u001b[39mshape[\u001b[38;5;241m2\u001b[39m])\u001b[38;5;241m.\u001b[39mcpu()\u001b[38;5;241m.\u001b[39mdetach()\u001b[38;5;241m.\u001b[39mnumpy()\n\u001b[1;32m      6\u001b[0m sindymodel \u001b[38;5;241m=\u001b[39m ps\u001b[38;5;241m.\u001b[39mSINDy()\n\u001b[0;32m----> 7\u001b[0m \u001b[43msindymodel\u001b[49m\u001b[38;5;241;43m.\u001b[39;49m\u001b[43mfit\u001b[49m\u001b[43m(\u001b[49m\u001b[43mz_trainS\u001b[49m\u001b[43m,\u001b[49m\u001b[43m \u001b[49m\u001b[43mt\u001b[49m\u001b[38;5;241;43m=\u001b[39;49m\u001b[43mdt\u001b[49m\u001b[43m)\u001b[49m\n\u001b[1;32m      8\u001b[0m sindymodel\u001b[38;5;241m.\u001b[39mprint()\n",
      "File \u001b[0;32m/usr/local/lib/python3.9/dist-packages/pysindy/pysindy.py:414\u001b[0m, in \u001b[0;36mSINDy.fit\u001b[0;34m(self, x, t, x_dot, u, multiple_trajectories, unbias, quiet, ensemble, library_ensemble, replace, n_candidates_to_drop, n_subset, n_models, ensemble_aggregator)\u001b[0m\n\u001b[1;32m    412\u001b[0m     warnings\u001b[38;5;241m.\u001b[39mfilterwarnings(action, category\u001b[38;5;241m=\u001b[39mLinAlgWarning)\n\u001b[1;32m    413\u001b[0m     warnings\u001b[38;5;241m.\u001b[39mfilterwarnings(action, category\u001b[38;5;241m=\u001b[39m\u001b[38;5;167;01mUserWarning\u001b[39;00m)\n\u001b[0;32m--> 414\u001b[0m     \u001b[38;5;28;43mself\u001b[39;49m\u001b[38;5;241;43m.\u001b[39;49m\u001b[43mmodel\u001b[49m\u001b[38;5;241;43m.\u001b[39;49m\u001b[43mfit\u001b[49m\u001b[43m(\u001b[49m\u001b[43mx\u001b[49m\u001b[43m,\u001b[49m\u001b[43m \u001b[49m\u001b[43mx_dot\u001b[49m\u001b[43m)\u001b[49m\n\u001b[1;32m    416\u001b[0m \u001b[38;5;66;03m# New version of sklearn changes attribute name\u001b[39;00m\n\u001b[1;32m    417\u001b[0m \u001b[38;5;28;01mif\u001b[39;00m \u001b[38;5;28mfloat\u001b[39m(__version__[:\u001b[38;5;241m3\u001b[39m]) \u001b[38;5;241m>\u001b[39m\u001b[38;5;241m=\u001b[39m \u001b[38;5;241m1.0\u001b[39m:\n",
      "File \u001b[0;32m/usr/local/lib/python3.9/dist-packages/sklearn/pipeline.py:382\u001b[0m, in \u001b[0;36mPipeline.fit\u001b[0;34m(self, X, y, **fit_params)\u001b[0m\n\u001b[1;32m    380\u001b[0m     \u001b[38;5;28;01mif\u001b[39;00m \u001b[38;5;28mself\u001b[39m\u001b[38;5;241m.\u001b[39m_final_estimator \u001b[38;5;241m!=\u001b[39m \u001b[38;5;124m\"\u001b[39m\u001b[38;5;124mpassthrough\u001b[39m\u001b[38;5;124m\"\u001b[39m:\n\u001b[1;32m    381\u001b[0m         fit_params_last_step \u001b[38;5;241m=\u001b[39m fit_params_steps[\u001b[38;5;28mself\u001b[39m\u001b[38;5;241m.\u001b[39msteps[\u001b[38;5;241m-\u001b[39m\u001b[38;5;241m1\u001b[39m][\u001b[38;5;241m0\u001b[39m]]\n\u001b[0;32m--> 382\u001b[0m         \u001b[38;5;28;43mself\u001b[39;49m\u001b[38;5;241;43m.\u001b[39;49m\u001b[43m_final_estimator\u001b[49m\u001b[38;5;241;43m.\u001b[39;49m\u001b[43mfit\u001b[49m\u001b[43m(\u001b[49m\u001b[43mXt\u001b[49m\u001b[43m,\u001b[49m\u001b[43m \u001b[49m\u001b[43my\u001b[49m\u001b[43m,\u001b[49m\u001b[43m \u001b[49m\u001b[38;5;241;43m*\u001b[39;49m\u001b[38;5;241;43m*\u001b[39;49m\u001b[43mfit_params_last_step\u001b[49m\u001b[43m)\u001b[49m\n\u001b[1;32m    384\u001b[0m \u001b[38;5;28;01mreturn\u001b[39;00m \u001b[38;5;28mself\u001b[39m\n",
      "File \u001b[0;32m/usr/local/lib/python3.9/dist-packages/pysindy/optimizers/sindy_optimizer.py:66\u001b[0m, in \u001b[0;36mSINDyOptimizer.fit\u001b[0;34m(self, x, y)\u001b[0m\n\u001b[1;32m     63\u001b[0m \u001b[38;5;28mself\u001b[39m\u001b[38;5;241m.\u001b[39mind_ \u001b[38;5;241m=\u001b[39m np\u001b[38;5;241m.\u001b[39mabs(\u001b[38;5;28mself\u001b[39m\u001b[38;5;241m.\u001b[39mcoef_) \u001b[38;5;241m>\u001b[39m COEF_THRESHOLD\n\u001b[1;32m     65\u001b[0m \u001b[38;5;28;01mif\u001b[39;00m \u001b[38;5;28mself\u001b[39m\u001b[38;5;241m.\u001b[39munbias:\n\u001b[0;32m---> 66\u001b[0m     \u001b[38;5;28;43mself\u001b[39;49m\u001b[38;5;241;43m.\u001b[39;49m\u001b[43m_unbias\u001b[49m\u001b[43m(\u001b[49m\u001b[43mx\u001b[49m\u001b[43m,\u001b[49m\u001b[43m \u001b[49m\u001b[43my\u001b[49m\u001b[43m)\u001b[49m\n\u001b[1;32m     68\u001b[0m \u001b[38;5;28;01mreturn\u001b[39;00m \u001b[38;5;28mself\u001b[39m\n",
      "File \u001b[0;32m/usr/local/lib/python3.9/dist-packages/pysindy/optimizers/sindy_optimizer.py:79\u001b[0m, in \u001b[0;36mSINDyOptimizer._unbias\u001b[0;34m(self, x, y)\u001b[0m\n\u001b[1;32m     76\u001b[0m \u001b[38;5;28;01mfor\u001b[39;00m i \u001b[38;5;129;01min\u001b[39;00m \u001b[38;5;28mrange\u001b[39m(\u001b[38;5;28mself\u001b[39m\u001b[38;5;241m.\u001b[39mind_\u001b[38;5;241m.\u001b[39mshape[\u001b[38;5;241m0\u001b[39m]):\n\u001b[1;32m     77\u001b[0m     \u001b[38;5;28;01mif\u001b[39;00m np\u001b[38;5;241m.\u001b[39many(\u001b[38;5;28mself\u001b[39m\u001b[38;5;241m.\u001b[39mind_[i]):\n\u001b[1;32m     78\u001b[0m         coef[i, \u001b[38;5;28mself\u001b[39m\u001b[38;5;241m.\u001b[39mind_[i]] \u001b[38;5;241m=\u001b[39m (\n\u001b[0;32m---> 79\u001b[0m             \u001b[43mLinearRegression\u001b[49m\u001b[43m(\u001b[49m\u001b[43mfit_intercept\u001b[49m\u001b[38;5;241;43m=\u001b[39;49m\u001b[43mfit_intercept\u001b[49m\u001b[43m)\u001b[49m\n\u001b[1;32m     80\u001b[0m \u001b[43m            \u001b[49m\u001b[38;5;241;43m.\u001b[39;49m\u001b[43mfit\u001b[49m\u001b[43m(\u001b[49m\u001b[43mx\u001b[49m\u001b[43m[\u001b[49m\u001b[43m:\u001b[49m\u001b[43m,\u001b[49m\u001b[43m \u001b[49m\u001b[38;5;28;43mself\u001b[39;49m\u001b[38;5;241;43m.\u001b[39;49m\u001b[43mind_\u001b[49m\u001b[43m[\u001b[49m\u001b[43mi\u001b[49m\u001b[43m]\u001b[49m\u001b[43m]\u001b[49m\u001b[43m,\u001b[49m\u001b[43m \u001b[49m\u001b[43my\u001b[49m\u001b[43m[\u001b[49m\u001b[43m:\u001b[49m\u001b[43m,\u001b[49m\u001b[43m \u001b[49m\u001b[43mi\u001b[49m\u001b[43m]\u001b[49m\u001b[43m)\u001b[49m\n\u001b[1;32m     81\u001b[0m             \u001b[38;5;241m.\u001b[39mcoef_\n\u001b[1;32m     82\u001b[0m         )\n\u001b[1;32m     83\u001b[0m \u001b[38;5;28;01mif\u001b[39;00m \u001b[38;5;28mself\u001b[39m\u001b[38;5;241m.\u001b[39moptimizer\u001b[38;5;241m.\u001b[39mcoef_\u001b[38;5;241m.\u001b[39mndim \u001b[38;5;241m==\u001b[39m \u001b[38;5;241m1\u001b[39m:\n\u001b[1;32m     84\u001b[0m     \u001b[38;5;28mself\u001b[39m\u001b[38;5;241m.\u001b[39moptimizer\u001b[38;5;241m.\u001b[39mcoef_ \u001b[38;5;241m=\u001b[39m coef[\u001b[38;5;241m0\u001b[39m]\n",
      "File \u001b[0;32m/usr/local/lib/python3.9/dist-packages/sklearn/linear_model/_base.py:736\u001b[0m, in \u001b[0;36mLinearRegression.fit\u001b[0;34m(self, X, y, sample_weight)\u001b[0m\n\u001b[1;32m    734\u001b[0m         \u001b[38;5;28mself\u001b[39m\u001b[38;5;241m.\u001b[39mcoef_ \u001b[38;5;241m=\u001b[39m np\u001b[38;5;241m.\u001b[39mvstack([out[\u001b[38;5;241m0\u001b[39m] \u001b[38;5;28;01mfor\u001b[39;00m out \u001b[38;5;129;01min\u001b[39;00m outs])\n\u001b[1;32m    735\u001b[0m \u001b[38;5;28;01melse\u001b[39;00m:\n\u001b[0;32m--> 736\u001b[0m     \u001b[38;5;28mself\u001b[39m\u001b[38;5;241m.\u001b[39mcoef_, _, \u001b[38;5;28mself\u001b[39m\u001b[38;5;241m.\u001b[39mrank_, \u001b[38;5;28mself\u001b[39m\u001b[38;5;241m.\u001b[39msingular_ \u001b[38;5;241m=\u001b[39m \u001b[43mlinalg\u001b[49m\u001b[38;5;241;43m.\u001b[39;49m\u001b[43mlstsq\u001b[49m\u001b[43m(\u001b[49m\u001b[43mX\u001b[49m\u001b[43m,\u001b[49m\u001b[43m \u001b[49m\u001b[43my\u001b[49m\u001b[43m)\u001b[49m\n\u001b[1;32m    737\u001b[0m     \u001b[38;5;28mself\u001b[39m\u001b[38;5;241m.\u001b[39mcoef_ \u001b[38;5;241m=\u001b[39m \u001b[38;5;28mself\u001b[39m\u001b[38;5;241m.\u001b[39mcoef_\u001b[38;5;241m.\u001b[39mT\n\u001b[1;32m    739\u001b[0m \u001b[38;5;28;01mif\u001b[39;00m y\u001b[38;5;241m.\u001b[39mndim \u001b[38;5;241m==\u001b[39m \u001b[38;5;241m1\u001b[39m:\n",
      "File \u001b[0;32m/usr/local/lib/python3.9/dist-packages/scipy/linalg/_basic.py:1192\u001b[0m, in \u001b[0;36mlstsq\u001b[0;34m(a, b, cond, overwrite_a, overwrite_b, check_finite, lapack_driver)\u001b[0m\n\u001b[1;32m   1190\u001b[0m \u001b[38;5;28;01mif\u001b[39;00m real_data:\n\u001b[1;32m   1191\u001b[0m     lwork, iwork \u001b[38;5;241m=\u001b[39m _compute_lwork(lapack_lwork, m, n, nrhs, cond)\n\u001b[0;32m-> 1192\u001b[0m     x, s, rank, info \u001b[38;5;241m=\u001b[39m \u001b[43mlapack_func\u001b[49m\u001b[43m(\u001b[49m\u001b[43ma1\u001b[49m\u001b[43m,\u001b[49m\u001b[43m \u001b[49m\u001b[43mb1\u001b[49m\u001b[43m,\u001b[49m\u001b[43m \u001b[49m\u001b[43mlwork\u001b[49m\u001b[43m,\u001b[49m\n\u001b[1;32m   1193\u001b[0m \u001b[43m                                   \u001b[49m\u001b[43miwork\u001b[49m\u001b[43m,\u001b[49m\u001b[43m \u001b[49m\u001b[43mcond\u001b[49m\u001b[43m,\u001b[49m\u001b[43m \u001b[49m\u001b[38;5;28;43;01mFalse\u001b[39;49;00m\u001b[43m,\u001b[49m\u001b[43m \u001b[49m\u001b[38;5;28;43;01mFalse\u001b[39;49;00m\u001b[43m)\u001b[49m\n\u001b[1;32m   1194\u001b[0m \u001b[38;5;28;01melse\u001b[39;00m:  \u001b[38;5;66;03m# complex data\u001b[39;00m\n\u001b[1;32m   1195\u001b[0m     lwork, rwork, iwork \u001b[38;5;241m=\u001b[39m _compute_lwork(lapack_lwork, m, n,\n\u001b[1;32m   1196\u001b[0m                                          nrhs, cond)\n",
      "\u001b[0;31mKeyboardInterrupt\u001b[0m: "
     ]
    }
   ],
   "source": [
    "# Instantiate and fit the SINDy model\n",
    "idx=0\n",
    "dt=0.01\n",
    "z_trainS=z_train[:100,:,:]\n",
    "z_trainS=z_trainS.reshape(z_trainS.shape[0]*z_trainS.shape[1],z_trainS.shape[2]).cpu().detach().numpy()\n",
    "sindymodel = ps.SINDy()\n",
    "sindymodel.fit(z_trainS, t=dt)\n",
    "sindymodel.print()"
   ]
  },
  {
   "cell_type": "code",
   "execution_count": null,
   "metadata": {},
   "outputs": [],
   "source": [
    "# Evolve the Lorenz equations in time using a different initial condition\n",
    "n_steps_test=T1\n",
    "t_test=np.linspace(0,(n_steps_test-1)*dt, n_steps_test)\n",
    "#t_test = np.arange(0, 15, dt)\n",
    "x0_test = z_test[idx,0,:].cpu().detach().numpy()\n",
    "x_test=z_test[idx,:n_steps_test,:].cpu().detach().numpy()\n",
    "# t_test_span = (t_test[0], t_test[-1])\n",
    "# x_test = solve_ivp(lorenz, t_test_span, x0_test,\n",
    "#                    t_eval=t_test, **integrator_keywords).y.T\n",
    "\n",
    "# Compare SINDy-predicted derivatives with finite difference derivatives\n",
    "#print('Model score: %f' % model.score(x_test, t=dt))"
   ]
  },
  {
   "cell_type": "code",
   "execution_count": 49,
   "metadata": {},
   "outputs": [
    {
     "data": {
      "image/png": "[encoded data removed]",
      "text/plain": [
       "<Figure size 700x900 with 2 Axes>"
      ]
     },
     "metadata": {},
     "output_type": "display_data"
    }
   ],
   "source": [
    "# Predict derivatives using the learned model\n",
    "x_dot_test_predicted = sindymodel.predict(x_test)\n",
    "\n",
    "# Compute derivatives with a finite difference method, for comparison\n",
    "x_dot_test_computed = sindymodel.differentiate(x_test, t=dt)\n",
    "\n",
    "fig, axs = plt.subplots(x_test.shape[1], 1, sharex=True, figsize=(7, 9))\n",
    "for i in range(x_test.shape[1]):\n",
    "    axs[i].plot(t_test, x_dot_test_computed[:, i],\n",
    "                'k', label='numerical derivative')\n",
    "    axs[i].plot(t_test, x_dot_test_predicted[:, i],\n",
    "                'r--', label='model prediction')\n",
    "    axs[i].legend()\n",
    "    axs[i].set(xlabel='t', ylabel='$\\dot x_{}$'.format(i))\n",
    "fig.show()"
   ]
  },
  {
   "cell_type": "code",
   "execution_count": 52,
   "metadata": {},
   "outputs": [
    {
     "data": {
      "text/plain": [
       "((2,), (5120,))"
      ]
     },
     "execution_count": 52,
     "metadata": {},
     "output_type": "execute_result"
    }
   ],
   "source": [
    "x0_test.shape,t_test.shape"
   ]
  },
  {
   "cell_type": "code",
   "execution_count": null,
   "metadata": {},
   "outputs": [],
   "source": [
    "# Evolve the new initial condition in time with the SINDy model\n",
    "x_test_sim = sindymodel.simulate(x0_test, t_test)"
   ]
  },
  {
   "cell_type": "code",
   "execution_count": 50,
   "metadata": {},
   "outputs": [
    {
     "name": "stdout",
     "output_type": "stream",
     "text": [
      " lsoda--  warning..internal t (=r1) and h (=r2) are\u0000\u0000\n",
      "       such that in the machine, t + h = t on the next step  \n",
      "       (h = step size). solver will continue anyway\u0000\u0000\n",
      "      in above,  r1 =  0.1261646232166D+01   r2 =  0.9793960687473D-16\n",
      " lsoda--  warning..internal t (=r1) and h (=r2) are\u0000\u0000\n",
      "       such that in the machine, t + h = t on the next step  \n",
      "       (h = step size). solver will continue anyway\u0000\u0000\n",
      "      in above,  r1 =  0.1261646232166D+01   r2 =  0.9793960687473D-16\n",
      " lsoda--  warning..internal t (=r1) and h (=r2) are\u0000\u0000\n",
      "       such that in the machine, t + h = t on the next step  \n",
      "       (h = step size). solver will continue anyway\u0000\u0000\n",
      "      in above,  r1 =  0.1261646232166D+01   r2 =  0.9793960687473D-16\n",
      " lsoda--  warning..internal t (=r1) and h (=r2) are\u0000\u0000\n",
      "       such that in the machine, t + h = t on the next step  \n",
      "       (h = step size). solver will continue anyway\u0000\u0000\n",
      "      in above,  r1 =  0.1261646232166D+01   r2 =  0.9793960687473D-16\n",
      " lsoda--  warning..internal t (=r1) and h (=r2) are\u0000\u0000\n",
      "       such that in the machine, t + h = t on the next step  \n",
      "       (h = step size). solver will continue anyway\u0000\u0000\n",
      "      in above,  r1 =  0.1261646232166D+01   r2 =  0.9793960687473D-16\n",
      " lsoda--  warning..internal t (=r1) and h (=r2) are\u0000\u0000\n",
      "       such that in the machine, t + h = t on the next step  \n",
      "       (h = step size). solver will continue anyway\u0000\u0000\n",
      "      in above,  r1 =  0.1261646232166D+01   r2 =  0.9793960687473D-16\n",
      " lsoda--  warning..internal t (=r1) and h (=r2) are\u0000\u0000\n",
      "       such that in the machine, t + h = t on the next step  \n",
      "       (h = step size). solver will continue anyway\u0000\u0000\n",
      "      in above,  r1 =  0.1261646232166D+01   r2 =  0.9793960687473D-16\n",
      " lsoda--  warning..internal t (=r1) and h (=r2) are\u0000\u0000\n",
      "       such that in the machine, t + h = t on the next step  \n",
      "       (h = step size). solver will continue anyway\u0000\u0000\n",
      "      in above,  r1 =  0.1261646232166D+01   r2 =  0.9793960687473D-16\n",
      " lsoda--  warning..internal t (=r1) and h (=r2) are\u0000\u0000\n",
      "       such that in the machine, t + h = t on the next step  \n",
      "       (h = step size). solver will continue anyway\u0000\u0000\n",
      "      in above,  r1 =  0.1261646232166D+01   r2 =  0.9793960687473D-16\n",
      " lsoda--  warning..internal t (=r1) and h (=r2) are\u0000\u0000\n",
      "       such that in the machine, t + h = t on the next step  \n",
      "       (h = step size). solver will continue anyway\u0000\u0000\n",
      "      in above,  r1 =  0.1261646232166D+01   r2 =  0.9793960687473D-16\n",
      " lsoda--  above warning has been issued i1 times.  \u0000\u0000\n",
      "       it will not be issued again for this problem\u0000\u0000\n",
      "      in above message,  i1 =        10\n"
     ]
    },
    {
     "name": "stderr",
     "output_type": "stream",
     "text": [
      "capi_return is NULL\n",
      "Call-back cb_f_in_lsoda__user__routines failed.\n"
     ]
    },
    {
     "ename": "ValueError",
     "evalue": "Input contains infinity or a value too large for dtype('float64').",
     "output_type": "error",
     "traceback": [
      "\u001b[0;31m---------------------------------------------------------------------------\u001b[0m",
      "\u001b[0;31mValueError\u001b[0m                                Traceback (most recent call last)",
      "Cell \u001b[0;32mIn [50], line 2\u001b[0m\n\u001b[1;32m      1\u001b[0m \u001b[38;5;66;03m# Evolve the new initial condition in time with the SINDy model\u001b[39;00m\n\u001b[0;32m----> 2\u001b[0m x_test_sim \u001b[38;5;241m=\u001b[39m \u001b[43msindymodel\u001b[49m\u001b[38;5;241;43m.\u001b[39;49m\u001b[43msimulate\u001b[49m\u001b[43m(\u001b[49m\u001b[43mx0_test\u001b[49m\u001b[43m,\u001b[49m\u001b[43m \u001b[49m\u001b[43mt_test\u001b[49m\u001b[43m)\u001b[49m\n\u001b[1;32m      4\u001b[0m fig, axs \u001b[38;5;241m=\u001b[39m plt\u001b[38;5;241m.\u001b[39msubplots(x_test\u001b[38;5;241m.\u001b[39mshape[\u001b[38;5;241m1\u001b[39m], \u001b[38;5;241m1\u001b[39m, sharex\u001b[38;5;241m=\u001b[39m\u001b[38;5;28;01mTrue\u001b[39;00m, figsize\u001b[38;5;241m=\u001b[39m(\u001b[38;5;241m7\u001b[39m, \u001b[38;5;241m9\u001b[39m))\n\u001b[1;32m      5\u001b[0m \u001b[38;5;28;01mfor\u001b[39;00m i \u001b[38;5;129;01min\u001b[39;00m \u001b[38;5;28mrange\u001b[39m(x_test\u001b[38;5;241m.\u001b[39mshape[\u001b[38;5;241m1\u001b[39m]):\n",
      "File \u001b[0;32m/usr/local/lib/python3.9/dist-packages/pysindy/pysindy.py:896\u001b[0m, in \u001b[0;36mSINDy.simulate\u001b[0;34m(self, x0, t, u, integrator, stop_condition, interpolator, integrator_kws, interpolator_kws)\u001b[0m\n\u001b[1;32m    892\u001b[0m \u001b[38;5;66;03m# Need to hard-code below, because odeint and solve_ivp\u001b[39;00m\n\u001b[1;32m    893\u001b[0m \u001b[38;5;66;03m# have different syntax and integration options.\u001b[39;00m\n\u001b[1;32m    894\u001b[0m \u001b[38;5;28;01mif\u001b[39;00m integrator \u001b[38;5;241m==\u001b[39m \u001b[38;5;124m\"\u001b[39m\u001b[38;5;124msolve_ivp\u001b[39m\u001b[38;5;124m\"\u001b[39m:\n\u001b[1;32m    895\u001b[0m     \u001b[38;5;28;01mreturn\u001b[39;00m (\n\u001b[0;32m--> 896\u001b[0m         (\u001b[43msolve_ivp\u001b[49m\u001b[43m(\u001b[49m\u001b[43mrhs\u001b[49m\u001b[43m,\u001b[49m\u001b[43m \u001b[49m\u001b[43m(\u001b[49m\u001b[43mt\u001b[49m\u001b[43m[\u001b[49m\u001b[38;5;241;43m0\u001b[39;49m\u001b[43m]\u001b[49m\u001b[43m,\u001b[49m\u001b[43m \u001b[49m\u001b[43mt\u001b[49m\u001b[43m[\u001b[49m\u001b[38;5;241;43m-\u001b[39;49m\u001b[38;5;241;43m1\u001b[39;49m\u001b[43m]\u001b[49m\u001b[43m)\u001b[49m\u001b[43m,\u001b[49m\u001b[43m \u001b[49m\u001b[43mx0\u001b[49m\u001b[43m,\u001b[49m\u001b[43m \u001b[49m\u001b[43mt_eval\u001b[49m\u001b[38;5;241;43m=\u001b[39;49m\u001b[43mt\u001b[49m\u001b[43m,\u001b[49m\u001b[43m \u001b[49m\u001b[38;5;241;43m*\u001b[39;49m\u001b[38;5;241;43m*\u001b[39;49m\u001b[43mintegrator_kws\u001b[49m\u001b[43m)\u001b[49m)\u001b[38;5;241m.\u001b[39my\n\u001b[1;32m    897\u001b[0m     )\u001b[38;5;241m.\u001b[39mT\n\u001b[1;32m    898\u001b[0m \u001b[38;5;28;01melif\u001b[39;00m integrator \u001b[38;5;241m==\u001b[39m \u001b[38;5;124m\"\u001b[39m\u001b[38;5;124modeint\u001b[39m\u001b[38;5;124m\"\u001b[39m:\n\u001b[1;32m    899\u001b[0m     \u001b[38;5;28;01mif\u001b[39;00m integrator_kws\u001b[38;5;241m.\u001b[39mget(\u001b[38;5;124m\"\u001b[39m\u001b[38;5;124mmethod\u001b[39m\u001b[38;5;124m\"\u001b[39m) \u001b[38;5;241m==\u001b[39m \u001b[38;5;124m\"\u001b[39m\u001b[38;5;124mLSODA\u001b[39m\u001b[38;5;124m\"\u001b[39m:\n",
      "File \u001b[0;32m/usr/local/lib/python3.9/dist-packages/scipy/integrate/_ivp/ivp.py:589\u001b[0m, in \u001b[0;36msolve_ivp\u001b[0;34m(fun, t_span, y0, method, t_eval, dense_output, events, vectorized, args, **options)\u001b[0m\n\u001b[1;32m    587\u001b[0m status \u001b[38;5;241m=\u001b[39m \u001b[38;5;28;01mNone\u001b[39;00m\n\u001b[1;32m    588\u001b[0m \u001b[38;5;28;01mwhile\u001b[39;00m status \u001b[38;5;129;01mis\u001b[39;00m \u001b[38;5;28;01mNone\u001b[39;00m:\n\u001b[0;32m--> 589\u001b[0m     message \u001b[38;5;241m=\u001b[39m \u001b[43msolver\u001b[49m\u001b[38;5;241;43m.\u001b[39;49m\u001b[43mstep\u001b[49m\u001b[43m(\u001b[49m\u001b[43m)\u001b[49m\n\u001b[1;32m    591\u001b[0m     \u001b[38;5;28;01mif\u001b[39;00m solver\u001b[38;5;241m.\u001b[39mstatus \u001b[38;5;241m==\u001b[39m \u001b[38;5;124m'\u001b[39m\u001b[38;5;124mfinished\u001b[39m\u001b[38;5;124m'\u001b[39m:\n\u001b[1;32m    592\u001b[0m         status \u001b[38;5;241m=\u001b[39m \u001b[38;5;241m0\u001b[39m\n",
      "File \u001b[0;32m/usr/local/lib/python3.9/dist-packages/scipy/integrate/_ivp/base.py:181\u001b[0m, in \u001b[0;36mOdeSolver.step\u001b[0;34m(self)\u001b[0m\n\u001b[1;32m    179\u001b[0m \u001b[38;5;28;01melse\u001b[39;00m:\n\u001b[1;32m    180\u001b[0m     t \u001b[38;5;241m=\u001b[39m \u001b[38;5;28mself\u001b[39m\u001b[38;5;241m.\u001b[39mt\n\u001b[0;32m--> 181\u001b[0m     success, message \u001b[38;5;241m=\u001b[39m \u001b[38;5;28;43mself\u001b[39;49m\u001b[38;5;241;43m.\u001b[39;49m\u001b[43m_step_impl\u001b[49m\u001b[43m(\u001b[49m\u001b[43m)\u001b[49m\n\u001b[1;32m    183\u001b[0m     \u001b[38;5;28;01mif\u001b[39;00m \u001b[38;5;129;01mnot\u001b[39;00m success:\n\u001b[1;32m    184\u001b[0m         \u001b[38;5;28mself\u001b[39m\u001b[38;5;241m.\u001b[39mstatus \u001b[38;5;241m=\u001b[39m \u001b[38;5;124m'\u001b[39m\u001b[38;5;124mfailed\u001b[39m\u001b[38;5;124m'\u001b[39m\n",
      "File \u001b[0;32m/usr/local/lib/python3.9/dist-packages/scipy/integrate/_ivp/lsoda.py:152\u001b[0m, in \u001b[0;36mLSODA._step_impl\u001b[0;34m(self)\u001b[0m\n\u001b[1;32m    150\u001b[0m itask \u001b[38;5;241m=\u001b[39m integrator\u001b[38;5;241m.\u001b[39mcall_args[\u001b[38;5;241m2\u001b[39m]\n\u001b[1;32m    151\u001b[0m integrator\u001b[38;5;241m.\u001b[39mcall_args[\u001b[38;5;241m2\u001b[39m] \u001b[38;5;241m=\u001b[39m \u001b[38;5;241m5\u001b[39m\n\u001b[0;32m--> 152\u001b[0m solver\u001b[38;5;241m.\u001b[39m_y, solver\u001b[38;5;241m.\u001b[39mt \u001b[38;5;241m=\u001b[39m \u001b[43mintegrator\u001b[49m\u001b[38;5;241;43m.\u001b[39;49m\u001b[43mrun\u001b[49m\u001b[43m(\u001b[49m\n\u001b[1;32m    153\u001b[0m \u001b[43m    \u001b[49m\u001b[43msolver\u001b[49m\u001b[38;5;241;43m.\u001b[39;49m\u001b[43mf\u001b[49m\u001b[43m,\u001b[49m\u001b[43m \u001b[49m\u001b[43msolver\u001b[49m\u001b[38;5;241;43m.\u001b[39;49m\u001b[43mjac\u001b[49m\u001b[43m \u001b[49m\u001b[38;5;129;43;01mor\u001b[39;49;00m\u001b[43m \u001b[49m\u001b[43m(\u001b[49m\u001b[38;5;28;43;01mlambda\u001b[39;49;00m\u001b[43m:\u001b[49m\u001b[43m \u001b[49m\u001b[38;5;28;43;01mNone\u001b[39;49;00m\u001b[43m)\u001b[49m\u001b[43m,\u001b[49m\u001b[43m \u001b[49m\u001b[43msolver\u001b[49m\u001b[38;5;241;43m.\u001b[39;49m\u001b[43m_y\u001b[49m\u001b[43m,\u001b[49m\u001b[43m \u001b[49m\u001b[43msolver\u001b[49m\u001b[38;5;241;43m.\u001b[39;49m\u001b[43mt\u001b[49m\u001b[43m,\u001b[49m\n\u001b[1;32m    154\u001b[0m \u001b[43m    \u001b[49m\u001b[38;5;28;43mself\u001b[39;49m\u001b[38;5;241;43m.\u001b[39;49m\u001b[43mt_bound\u001b[49m\u001b[43m,\u001b[49m\u001b[43m \u001b[49m\u001b[43msolver\u001b[49m\u001b[38;5;241;43m.\u001b[39;49m\u001b[43mf_params\u001b[49m\u001b[43m,\u001b[49m\u001b[43m \u001b[49m\u001b[43msolver\u001b[49m\u001b[38;5;241;43m.\u001b[39;49m\u001b[43mjac_params\u001b[49m\u001b[43m)\u001b[49m\n\u001b[1;32m    155\u001b[0m integrator\u001b[38;5;241m.\u001b[39mcall_args[\u001b[38;5;241m2\u001b[39m] \u001b[38;5;241m=\u001b[39m itask\n\u001b[1;32m    157\u001b[0m \u001b[38;5;28;01mif\u001b[39;00m solver\u001b[38;5;241m.\u001b[39msuccessful():\n",
      "File \u001b[0;32m/usr/local/lib/python3.9/dist-packages/scipy/integrate/_ode.py:1344\u001b[0m, in \u001b[0;36mlsoda.run\u001b[0;34m(self, f, jac, y0, t0, t1, f_params, jac_params)\u001b[0m\n\u001b[1;32m   1341\u001b[0m     \u001b[38;5;28mself\u001b[39m\u001b[38;5;241m.\u001b[39macquire_new_handle()\n\u001b[1;32m   1342\u001b[0m args \u001b[38;5;241m=\u001b[39m [f, y0, t0, t1] \u001b[38;5;241m+\u001b[39m \u001b[38;5;28mself\u001b[39m\u001b[38;5;241m.\u001b[39mcall_args[:\u001b[38;5;241m-\u001b[39m\u001b[38;5;241m1\u001b[39m] \u001b[38;5;241m+\u001b[39m \\\n\u001b[1;32m   1343\u001b[0m        [jac, \u001b[38;5;28mself\u001b[39m\u001b[38;5;241m.\u001b[39mcall_args[\u001b[38;5;241m-\u001b[39m\u001b[38;5;241m1\u001b[39m], f_params, \u001b[38;5;241m0\u001b[39m, jac_params]\n\u001b[0;32m-> 1344\u001b[0m y1, t, istate \u001b[38;5;241m=\u001b[39m \u001b[38;5;28;43mself\u001b[39;49m\u001b[38;5;241;43m.\u001b[39;49m\u001b[43mrunner\u001b[49m\u001b[43m(\u001b[49m\u001b[38;5;241;43m*\u001b[39;49m\u001b[43margs\u001b[49m\u001b[43m)\u001b[49m\n\u001b[1;32m   1345\u001b[0m \u001b[38;5;28mself\u001b[39m\u001b[38;5;241m.\u001b[39mistate \u001b[38;5;241m=\u001b[39m istate\n\u001b[1;32m   1346\u001b[0m \u001b[38;5;28;01mif\u001b[39;00m istate \u001b[38;5;241m<\u001b[39m \u001b[38;5;241m0\u001b[39m:\n",
      "File \u001b[0;32m/usr/local/lib/python3.9/dist-packages/scipy/integrate/_ivp/base.py:138\u001b[0m, in \u001b[0;36mOdeSolver.__init__.<locals>.fun\u001b[0;34m(t, y)\u001b[0m\n\u001b[1;32m    136\u001b[0m \u001b[38;5;28;01mdef\u001b[39;00m \u001b[38;5;21mfun\u001b[39m(t, y):\n\u001b[1;32m    137\u001b[0m     \u001b[38;5;28mself\u001b[39m\u001b[38;5;241m.\u001b[39mnfev \u001b[38;5;241m+\u001b[39m\u001b[38;5;241m=\u001b[39m \u001b[38;5;241m1\u001b[39m\n\u001b[0;32m--> 138\u001b[0m     \u001b[38;5;28;01mreturn\u001b[39;00m \u001b[38;5;28;43mself\u001b[39;49m\u001b[38;5;241;43m.\u001b[39;49m\u001b[43mfun_single\u001b[49m\u001b[43m(\u001b[49m\u001b[43mt\u001b[49m\u001b[43m,\u001b[49m\u001b[43m \u001b[49m\u001b[43my\u001b[49m\u001b[43m)\u001b[49m\n",
      "File \u001b[0;32m/usr/local/lib/python3.9/dist-packages/scipy/integrate/_ivp/base.py:20\u001b[0m, in \u001b[0;36mcheck_arguments.<locals>.fun_wrapped\u001b[0;34m(t, y)\u001b[0m\n\u001b[1;32m     19\u001b[0m \u001b[38;5;28;01mdef\u001b[39;00m \u001b[38;5;21mfun_wrapped\u001b[39m(t, y):\n\u001b[0;32m---> 20\u001b[0m     \u001b[38;5;28;01mreturn\u001b[39;00m np\u001b[38;5;241m.\u001b[39masarray(\u001b[43mfun\u001b[49m\u001b[43m(\u001b[49m\u001b[43mt\u001b[49m\u001b[43m,\u001b[49m\u001b[43m \u001b[49m\u001b[43my\u001b[49m\u001b[43m)\u001b[49m, dtype\u001b[38;5;241m=\u001b[39mdtype)\n",
      "File \u001b[0;32m/usr/local/lib/python3.9/dist-packages/pysindy/pysindy.py:860\u001b[0m, in \u001b[0;36mSINDy.simulate.<locals>.rhs\u001b[0;34m(t, x)\u001b[0m\n\u001b[1;32m    859\u001b[0m \u001b[38;5;28;01mdef\u001b[39;00m \u001b[38;5;21mrhs\u001b[39m(t, x):\n\u001b[0;32m--> 860\u001b[0m     \u001b[38;5;28;01mreturn\u001b[39;00m \u001b[38;5;28;43mself\u001b[39;49m\u001b[38;5;241;43m.\u001b[39;49m\u001b[43mpredict\u001b[49m\u001b[43m(\u001b[49m\u001b[43mx\u001b[49m\u001b[43m[\u001b[49m\u001b[43mnp\u001b[49m\u001b[38;5;241;43m.\u001b[39;49m\u001b[43mnewaxis\u001b[49m\u001b[43m,\u001b[49m\u001b[43m \u001b[49m\u001b[43m:\u001b[49m\u001b[43m]\u001b[49m\u001b[43m)\u001b[49m[\u001b[38;5;241m0\u001b[39m]\n",
      "File \u001b[0;32m/usr/local/lib/python3.9/dist-packages/pysindy/pysindy.py:461\u001b[0m, in \u001b[0;36mSINDy.predict\u001b[0;34m(self, x, u, multiple_trajectories)\u001b[0m\n\u001b[1;32m    459\u001b[0m \u001b[38;5;28;01mif\u001b[39;00m \u001b[38;5;129;01mnot\u001b[39;00m multiple_trajectories:\n\u001b[1;32m    460\u001b[0m     x, _, _, u \u001b[38;5;241m=\u001b[39m _adapt_to_multiple_trajectories(x, \u001b[38;5;28;01mNone\u001b[39;00m, \u001b[38;5;28;01mNone\u001b[39;00m, u)\n\u001b[0;32m--> 461\u001b[0m x, _, u \u001b[38;5;241m=\u001b[39m \u001b[43m_comprehend_and_validate_inputs\u001b[49m\u001b[43m(\u001b[49m\u001b[43mx\u001b[49m\u001b[43m,\u001b[49m\u001b[43m \u001b[49m\u001b[38;5;241;43m1\u001b[39;49m\u001b[43m,\u001b[49m\u001b[43m \u001b[49m\u001b[38;5;28;43;01mNone\u001b[39;49;00m\u001b[43m,\u001b[49m\u001b[43m \u001b[49m\u001b[43mu\u001b[49m\u001b[43m,\u001b[49m\u001b[43m \u001b[49m\u001b[38;5;28;43mself\u001b[39;49m\u001b[38;5;241;43m.\u001b[39;49m\u001b[43mfeature_library\u001b[49m\u001b[43m)\u001b[49m\n\u001b[1;32m    463\u001b[0m check_is_fitted(\u001b[38;5;28mself\u001b[39m, \u001b[38;5;124m\"\u001b[39m\u001b[38;5;124mmodel\u001b[39m\u001b[38;5;124m\"\u001b[39m)\n\u001b[1;32m    464\u001b[0m \u001b[38;5;28;01mif\u001b[39;00m \u001b[38;5;28mself\u001b[39m\u001b[38;5;241m.\u001b[39mn_control_features_ \u001b[38;5;241m>\u001b[39m \u001b[38;5;241m0\u001b[39m \u001b[38;5;129;01mand\u001b[39;00m u \u001b[38;5;129;01mis\u001b[39;00m \u001b[38;5;28;01mNone\u001b[39;00m:\n",
      "File \u001b[0;32m/usr/local/lib/python3.9/dist-packages/pysindy/pysindy.py:956\u001b[0m, in \u001b[0;36m_comprehend_and_validate_inputs\u001b[0;34m(x, t, x_dot, u, feature_library)\u001b[0m\n\u001b[1;32m    953\u001b[0m     arr \u001b[38;5;241m=\u001b[39m feature_library\u001b[38;5;241m.\u001b[39mcorrect_shape(arr)\n\u001b[1;32m    954\u001b[0m     \u001b[38;5;28;01mreturn\u001b[39;00m validate_no_reshape(arr, t)\n\u001b[0;32m--> 956\u001b[0m x \u001b[38;5;241m=\u001b[39m [comprehend_and_validate(xi, ti) \u001b[38;5;28;01mfor\u001b[39;00m xi, ti \u001b[38;5;129;01min\u001b[39;00m _zip_like_sequence(x, t)]\n\u001b[1;32m    957\u001b[0m \u001b[38;5;28;01mif\u001b[39;00m x_dot \u001b[38;5;129;01mis\u001b[39;00m \u001b[38;5;129;01mnot\u001b[39;00m \u001b[38;5;28;01mNone\u001b[39;00m:\n\u001b[1;32m    958\u001b[0m     x_dot \u001b[38;5;241m=\u001b[39m [\n\u001b[1;32m    959\u001b[0m         comprehend_and_validate(xdoti, ti)\n\u001b[1;32m    960\u001b[0m         \u001b[38;5;28;01mfor\u001b[39;00m xdoti, ti \u001b[38;5;129;01min\u001b[39;00m _zip_like_sequence(x_dot, t)\n\u001b[1;32m    961\u001b[0m     ]\n",
      "File \u001b[0;32m/usr/local/lib/python3.9/dist-packages/pysindy/pysindy.py:956\u001b[0m, in \u001b[0;36m<listcomp>\u001b[0;34m(.0)\u001b[0m\n\u001b[1;32m    953\u001b[0m     arr \u001b[38;5;241m=\u001b[39m feature_library\u001b[38;5;241m.\u001b[39mcorrect_shape(arr)\n\u001b[1;32m    954\u001b[0m     \u001b[38;5;28;01mreturn\u001b[39;00m validate_no_reshape(arr, t)\n\u001b[0;32m--> 956\u001b[0m x \u001b[38;5;241m=\u001b[39m [\u001b[43mcomprehend_and_validate\u001b[49m\u001b[43m(\u001b[49m\u001b[43mxi\u001b[49m\u001b[43m,\u001b[49m\u001b[43m \u001b[49m\u001b[43mti\u001b[49m\u001b[43m)\u001b[49m \u001b[38;5;28;01mfor\u001b[39;00m xi, ti \u001b[38;5;129;01min\u001b[39;00m _zip_like_sequence(x, t)]\n\u001b[1;32m    957\u001b[0m \u001b[38;5;28;01mif\u001b[39;00m x_dot \u001b[38;5;129;01mis\u001b[39;00m \u001b[38;5;129;01mnot\u001b[39;00m \u001b[38;5;28;01mNone\u001b[39;00m:\n\u001b[1;32m    958\u001b[0m     x_dot \u001b[38;5;241m=\u001b[39m [\n\u001b[1;32m    959\u001b[0m         comprehend_and_validate(xdoti, ti)\n\u001b[1;32m    960\u001b[0m         \u001b[38;5;28;01mfor\u001b[39;00m xdoti, ti \u001b[38;5;129;01min\u001b[39;00m _zip_like_sequence(x_dot, t)\n\u001b[1;32m    961\u001b[0m     ]\n",
      "File \u001b[0;32m/usr/local/lib/python3.9/dist-packages/pysindy/pysindy.py:954\u001b[0m, in \u001b[0;36m_comprehend_and_validate_inputs.<locals>.comprehend_and_validate\u001b[0;34m(arr, t)\u001b[0m\n\u001b[1;32m    952\u001b[0m arr \u001b[38;5;241m=\u001b[39m AxesArray(arr, comprehend_axes(arr))\n\u001b[1;32m    953\u001b[0m arr \u001b[38;5;241m=\u001b[39m feature_library\u001b[38;5;241m.\u001b[39mcorrect_shape(arr)\n\u001b[0;32m--> 954\u001b[0m \u001b[38;5;28;01mreturn\u001b[39;00m \u001b[43mvalidate_no_reshape\u001b[49m\u001b[43m(\u001b[49m\u001b[43marr\u001b[49m\u001b[43m,\u001b[49m\u001b[43m \u001b[49m\u001b[43mt\u001b[49m\u001b[43m)\u001b[49m\n",
      "File \u001b[0;32m/usr/local/lib/python3.9/dist-packages/pysindy/utils/base.py:72\u001b[0m, in \u001b[0;36mvalidate_no_reshape\u001b[0;34m(x, t)\u001b[0m\n\u001b[1;32m     70\u001b[0m \u001b[38;5;28;01mif\u001b[39;00m \u001b[38;5;129;01mnot\u001b[39;00m \u001b[38;5;28misinstance\u001b[39m(x, np\u001b[38;5;241m.\u001b[39mndarray):\n\u001b[1;32m     71\u001b[0m     \u001b[38;5;28;01mraise\u001b[39;00m \u001b[38;5;167;01mTypeError\u001b[39;00m(\u001b[38;5;124m\"\u001b[39m\u001b[38;5;124mInput value must be array-like\u001b[39m\u001b[38;5;124m\"\u001b[39m)\n\u001b[0;32m---> 72\u001b[0m \u001b[43mcheck_array\u001b[49m\u001b[43m(\u001b[49m\u001b[43mx\u001b[49m\u001b[43m,\u001b[49m\u001b[43m \u001b[49m\u001b[43mensure_2d\u001b[49m\u001b[38;5;241;43m=\u001b[39;49m\u001b[38;5;28;43;01mFalse\u001b[39;49;00m\u001b[43m,\u001b[49m\u001b[43m \u001b[49m\u001b[43mallow_nd\u001b[49m\u001b[38;5;241;43m=\u001b[39;49m\u001b[38;5;28;43;01mTrue\u001b[39;49;00m\u001b[43m)\u001b[49m\n\u001b[1;32m     74\u001b[0m \u001b[38;5;28;01mif\u001b[39;00m t \u001b[38;5;129;01mis\u001b[39;00m \u001b[38;5;129;01mnot\u001b[39;00m T_DEFAULT:\n\u001b[1;32m     75\u001b[0m     \u001b[38;5;28;01mif\u001b[39;00m t \u001b[38;5;129;01mis\u001b[39;00m \u001b[38;5;28;01mNone\u001b[39;00m:\n",
      "File \u001b[0;32m/usr/local/lib/python3.9/dist-packages/sklearn/utils/validation.py:899\u001b[0m, in \u001b[0;36mcheck_array\u001b[0;34m(array, accept_sparse, accept_large_sparse, dtype, order, copy, force_all_finite, ensure_2d, allow_nd, ensure_min_samples, ensure_min_features, estimator, input_name)\u001b[0m\n\u001b[1;32m    893\u001b[0m         \u001b[38;5;28;01mraise\u001b[39;00m \u001b[38;5;167;01mValueError\u001b[39;00m(\n\u001b[1;32m    894\u001b[0m             \u001b[38;5;124m\"\u001b[39m\u001b[38;5;124mFound array with dim \u001b[39m\u001b[38;5;132;01m%d\u001b[39;00m\u001b[38;5;124m. \u001b[39m\u001b[38;5;132;01m%s\u001b[39;00m\u001b[38;5;124m expected <= 2.\u001b[39m\u001b[38;5;124m\"\u001b[39m\n\u001b[1;32m    895\u001b[0m             \u001b[38;5;241m%\u001b[39m (array\u001b[38;5;241m.\u001b[39mndim, estimator_name)\n\u001b[1;32m    896\u001b[0m         )\n\u001b[1;32m    898\u001b[0m     \u001b[38;5;28;01mif\u001b[39;00m force_all_finite:\n\u001b[0;32m--> 899\u001b[0m         \u001b[43m_assert_all_finite\u001b[49m\u001b[43m(\u001b[49m\n\u001b[1;32m    900\u001b[0m \u001b[43m            \u001b[49m\u001b[43marray\u001b[49m\u001b[43m,\u001b[49m\n\u001b[1;32m    901\u001b[0m \u001b[43m            \u001b[49m\u001b[43minput_name\u001b[49m\u001b[38;5;241;43m=\u001b[39;49m\u001b[43minput_name\u001b[49m\u001b[43m,\u001b[49m\n\u001b[1;32m    902\u001b[0m \u001b[43m            \u001b[49m\u001b[43mestimator_name\u001b[49m\u001b[38;5;241;43m=\u001b[39;49m\u001b[43mestimator_name\u001b[49m\u001b[43m,\u001b[49m\n\u001b[1;32m    903\u001b[0m \u001b[43m            \u001b[49m\u001b[43mallow_nan\u001b[49m\u001b[38;5;241;43m=\u001b[39;49m\u001b[43mforce_all_finite\u001b[49m\u001b[43m \u001b[49m\u001b[38;5;241;43m==\u001b[39;49m\u001b[43m \u001b[49m\u001b[38;5;124;43m\"\u001b[39;49m\u001b[38;5;124;43mallow-nan\u001b[39;49m\u001b[38;5;124;43m\"\u001b[39;49m\u001b[43m,\u001b[49m\n\u001b[1;32m    904\u001b[0m \u001b[43m        \u001b[49m\u001b[43m)\u001b[49m\n\u001b[1;32m    906\u001b[0m \u001b[38;5;28;01mif\u001b[39;00m ensure_min_samples \u001b[38;5;241m>\u001b[39m \u001b[38;5;241m0\u001b[39m:\n\u001b[1;32m    907\u001b[0m     n_samples \u001b[38;5;241m=\u001b[39m _num_samples(array)\n",
      "File \u001b[0;32m/usr/local/lib/python3.9/dist-packages/sklearn/utils/validation.py:146\u001b[0m, in \u001b[0;36m_assert_all_finite\u001b[0;34m(X, allow_nan, msg_dtype, estimator_name, input_name)\u001b[0m\n\u001b[1;32m    124\u001b[0m         \u001b[38;5;28;01mif\u001b[39;00m (\n\u001b[1;32m    125\u001b[0m             \u001b[38;5;129;01mnot\u001b[39;00m allow_nan\n\u001b[1;32m    126\u001b[0m             \u001b[38;5;129;01mand\u001b[39;00m estimator_name\n\u001b[0;32m   (...)\u001b[0m\n\u001b[1;32m    130\u001b[0m             \u001b[38;5;66;03m# Improve the error message on how to handle missing values in\u001b[39;00m\n\u001b[1;32m    131\u001b[0m             \u001b[38;5;66;03m# scikit-learn.\u001b[39;00m\n\u001b[1;32m    132\u001b[0m             msg_err \u001b[38;5;241m+\u001b[39m\u001b[38;5;241m=\u001b[39m (\n\u001b[1;32m    133\u001b[0m                 \u001b[38;5;124mf\u001b[39m\u001b[38;5;124m\"\u001b[39m\u001b[38;5;130;01m\\n\u001b[39;00m\u001b[38;5;132;01m{\u001b[39;00mestimator_name\u001b[38;5;132;01m}\u001b[39;00m\u001b[38;5;124m does not accept missing values\u001b[39m\u001b[38;5;124m\"\u001b[39m\n\u001b[1;32m    134\u001b[0m                 \u001b[38;5;124m\"\u001b[39m\u001b[38;5;124m encoded as NaN natively. For supervised learning, you might want\u001b[39m\u001b[38;5;124m\"\u001b[39m\n\u001b[0;32m   (...)\u001b[0m\n\u001b[1;32m    144\u001b[0m                 \u001b[38;5;124m\"\u001b[39m\u001b[38;5;124m#estimators-that-handle-nan-values\u001b[39m\u001b[38;5;124m\"\u001b[39m\n\u001b[1;32m    145\u001b[0m             )\n\u001b[0;32m--> 146\u001b[0m         \u001b[38;5;28;01mraise\u001b[39;00m \u001b[38;5;167;01mValueError\u001b[39;00m(msg_err)\n\u001b[1;32m    148\u001b[0m \u001b[38;5;66;03m# for object dtype data, we only check for NaNs (GH-13254)\u001b[39;00m\n\u001b[1;32m    149\u001b[0m \u001b[38;5;28;01melif\u001b[39;00m X\u001b[38;5;241m.\u001b[39mdtype \u001b[38;5;241m==\u001b[39m np\u001b[38;5;241m.\u001b[39mdtype(\u001b[38;5;124m\"\u001b[39m\u001b[38;5;124mobject\u001b[39m\u001b[38;5;124m\"\u001b[39m) \u001b[38;5;129;01mand\u001b[39;00m \u001b[38;5;129;01mnot\u001b[39;00m allow_nan:\n",
      "\u001b[0;31mValueError\u001b[0m: Input contains infinity or a value too large for dtype('float64')."
     ]
    }
   ],
   "source": [
    "# Evolve the new initial condition in time with the SINDy model\n",
    "x_test_sim = sindymodel.simulate(x0_test, t_test)\n",
    "\n",
    "fig, axs = plt.subplots(x_test.shape[1], 1, sharex=True, figsize=(7, 9))\n",
    "for i in range(x_test.shape[1]):\n",
    "    axs[i].plot(t_test, x_test[:, i], 'k', label='true simulation')\n",
    "    axs[i].plot(t_test, x_test_sim[:, i], 'r--', label='model simulation')\n",
    "    axs[i].legend()\n",
    "    axs[i].set(xlabel='t', ylabel='$x_{}$'.format(i))\n",
    "\n",
    "fig = plt.figure(figsize=(10, 4.5))\n",
    "ax1 = fig.add_subplot(121, projection='3d')\n",
    "ax1.plot(x_test[:, 0], x_test[:, 1], x_test[:, 2], 'k')\n",
    "ax1.set(xlabel='$x_0$', ylabel='$x_1$',\n",
    "        zlabel='$x_2$', title='true simulation')\n",
    "\n",
    "ax2 = fig.add_subplot(122, projection='3d')\n",
    "ax2.plot(x_test_sim[:, 0], x_test_sim[:, 1], x_test_sim[:, 2], 'r--')\n",
    "ax2.set(xlabel='$x_0$', ylabel='$x_1$',\n",
    "        zlabel='$x_2$', title='model simulation')\n",
    "\n",
    "fig.show()"
   ]
  },
  {
   "cell_type": "code",
   "execution_count": null,
   "metadata": {},
   "outputs": [],
   "source": []
  },
  {
   "cell_type": "code",
   "execution_count": null,
   "metadata": {},
   "outputs": [],
   "source": []
  },
  {
   "cell_type": "code",
   "execution_count": null,
   "metadata": {},
   "outputs": [],
   "source": []
  },
  {
   "cell_type": "code",
   "execution_count": null,
   "metadata": {},
   "outputs": [],
   "source": []
  },
  {
   "cell_type": "code",
   "execution_count": null,
   "metadata": {},
   "outputs": [],
   "source": [
    "# # create dataset object\n",
    "# datasets = list()\n",
    "# step_sizes = list()\n",
    "# step_size = [2**k for k in k]\n",
    "# print('Dt\\'s: ')\n",
    "# for i in range(11):\n",
    "#     step_size = 2**i\n",
    "#     print(step_size * dt)\n",
    "#     step_sizes.append(step_size)\n",
    "#     datasets.append(net.DataSet(train_data, val_data, test_data, dt, step_size=step_size, n_forward=n_forward))\n",
    "\n",
    "# dataset = net.DataSet(train_data, val_data, test_data, dt, step_size, n_forward)"
   ]
  },
  {
   "cell_type": "code",
   "execution_count": null,
   "metadata": {},
   "outputs": [],
   "source": [
    "# models=list()\n",
    "# for (step_size, dataset) in zip(step_sizes, datasets):\n",
    "#     print('training model_D{} ...'.format(step_size))\n",
    "#     model_name = 'model_D{}_noise{}.pt'.format(step_size, noise)\n",
    "#     #model object\n",
    "#     device = 'cuda' if torch.cuda.is_available() else 'cpu'\n",
    "#     #model = torch.load(os.path.join(model_dir, model_name), map_location=device)\n",
    "#     #model.device = device\n",
    "#     # set up the network\n",
    "#     model = net.ResNet(arch=arch, dt=dt, step_size=step_size)\n",
    "#     # training\n",
    "#     model.train_net(dataset, max_epoch=max_epoch, batch_size=batch_size, lr=lr,  model_path=os.path.join(model_dir, model_name))\n",
    "#     models.append(model)\n",
    "\n",
    "# print('models trained successfully!')\n",
    "# # create/load model object\n",
    "# # try:\n",
    "# #     device = 'cuda' if torch.cuda.is_available() else 'cpu'\n",
    "# #     model = torch.load(os.path.join(model_dir, model_name), map_location=device)\n",
    "# #     model.device = device\n",
    "# # except:\n",
    "# #     print('create model {} ...'.format(model_name))\n",
    "# #     model = net.ResNet(arch=arch, dt=dt, step_size=step_size)\n",
    "# #\n",
    "# # # training\n",
    "# # model.train_net(dataset, max_epoch=max_epoch, batch_size=batch_size, lr=lr,\n",
    "# #                 model_path=os.path.join(model_dir, model_name))"
   ]
  },
  {
   "cell_type": "code",
   "execution_count": null,
   "metadata": {},
   "outputs": [],
   "source": []
  }
 ],
 "metadata": {
  "kernelspec": {
   "display_name": "Python 3 (ipykernel)",
   "language": "python",
   "name": "python3"
  },
  "language_info": {
   "codemirror_mode": {
    "name": "ipython",
    "version": 3
   },
   "file_extension": ".py",
   "mimetype": "text/x-python",
   "name": "python",
   "nbconvert_exporter": "python",
   "pygments_lexer": "ipython3",
   "version": "3.9.16"
  }
 },
 "nbformat": 4,
 "nbformat_minor": 4
}
